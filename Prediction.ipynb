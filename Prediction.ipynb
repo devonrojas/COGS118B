{
 "cells": [
  {
   "cell_type": "markdown",
   "metadata": {},
   "source": [
    "# Prediction of Wine Data Set "
   ]
  },
  {
   "cell_type": "code",
   "execution_count": 1,
   "metadata": {},
   "outputs": [],
   "source": [
    "#!pip install --user scikit-learn"
   ]
  },
  {
   "cell_type": "code",
   "execution_count": 2,
   "metadata": {},
   "outputs": [],
   "source": [
    "#!pip install tensorflow"
   ]
  },
  {
   "cell_type": "code",
   "execution_count": 3,
   "metadata": {},
   "outputs": [],
   "source": [
    "##1-Upgrade tensorflow:\n",
    "#!pip install --user --upgrade tensorflow-gpu"
   ]
  },
  {
   "cell_type": "code",
   "execution_count": 4,
   "metadata": {},
   "outputs": [],
   "source": [
    "## 2-Upgrade Tensorboard\n",
    "#!pip install --user --upgrade tensorboard"
   ]
  },
  {
   "cell_type": "code",
   "execution_count": 5,
   "metadata": {},
   "outputs": [],
   "source": [
    "## 3-Downgrade Keras\n",
    "#pip install keras==2.3.1"
   ]
  },
  {
   "cell_type": "code",
   "execution_count": 6,
   "metadata": {},
   "outputs": [],
   "source": [
    "# 4-Downgrade tensorflow-gpu\n",
    "#pip install --user --upgrade tensorflow-gpu==1.14.0"
   ]
  },
  {
   "cell_type": "code",
   "execution_count": 8,
   "metadata": {},
   "outputs": [],
   "source": [
    "import numpy as np\n",
    "import pandas as pd\n",
    "import matplotlib.pyplot as plt\n",
    "import seaborn as sns\n",
    "\n",
    "# Sklean Packages for Prediction\n",
    "from sklearn import datasets\n",
    "\n",
    "# For Splitting Data \n",
    "from sklearn.model_selection import train_test_split\n",
    "\n",
    "# Scaling Data \n",
    "from sklearn.preprocessing import StandardScaler\n",
    "\n",
    "# Different Models\n",
    "from sklearn.linear_model import LogisticRegression\n",
    "from sklearn.ensemble import RandomForestClassifier\n",
    "from sklearn.tree import DecisionTreeClassifier\n",
    "from sklearn.neighbors import KNeighborsClassifier\n",
    "from sklearn.naive_bayes import GaussianNB\n",
    "\n",
    "# For Comparing Accuracies Across Different Models\n",
    "from sklearn import model_selection\n",
    "from sklearn.metrics import classification_report, confusion_matrix\n",
    "from sklearn.model_selection import GridSearchCV, cross_val_score"
   ]
  },
  {
   "cell_type": "code",
   "execution_count": 9,
   "metadata": {},
   "outputs": [],
   "source": [
    "import warnings\n",
    "warnings.filterwarnings(\"ignore\")"
   ]
  },
  {
   "cell_type": "markdown",
   "metadata": {},
   "source": [
    "## Read in Data "
   ]
  },
  {
   "cell_type": "code",
   "execution_count": 10,
   "metadata": {},
   "outputs": [
    {
     "data": {
      "text/html": [
       "<div>\n",
       "<style scoped>\n",
       "    .dataframe tbody tr th:only-of-type {\n",
       "        vertical-align: middle;\n",
       "    }\n",
       "\n",
       "    .dataframe tbody tr th {\n",
       "        vertical-align: top;\n",
       "    }\n",
       "\n",
       "    .dataframe thead th {\n",
       "        text-align: right;\n",
       "    }\n",
       "</style>\n",
       "<table border=\"1\" class=\"dataframe\">\n",
       "  <thead>\n",
       "    <tr style=\"text-align: right;\">\n",
       "      <th></th>\n",
       "      <th>fixed acidity</th>\n",
       "      <th>volatile acidity</th>\n",
       "      <th>citric acid</th>\n",
       "      <th>residual sugar</th>\n",
       "      <th>chlorides</th>\n",
       "      <th>free sulfur dioxide</th>\n",
       "      <th>total sulfur dioxide</th>\n",
       "      <th>density</th>\n",
       "      <th>pH</th>\n",
       "      <th>sulphates</th>\n",
       "      <th>alcohol</th>\n",
       "      <th>quality</th>\n",
       "    </tr>\n",
       "  </thead>\n",
       "  <tbody>\n",
       "    <tr>\n",
       "      <th>0</th>\n",
       "      <td>7.4</td>\n",
       "      <td>0.70</td>\n",
       "      <td>0.00</td>\n",
       "      <td>1.9</td>\n",
       "      <td>0.076</td>\n",
       "      <td>11.0</td>\n",
       "      <td>34.0</td>\n",
       "      <td>0.9978</td>\n",
       "      <td>3.51</td>\n",
       "      <td>0.56</td>\n",
       "      <td>9.4</td>\n",
       "      <td>5</td>\n",
       "    </tr>\n",
       "    <tr>\n",
       "      <th>1</th>\n",
       "      <td>7.8</td>\n",
       "      <td>0.88</td>\n",
       "      <td>0.00</td>\n",
       "      <td>2.6</td>\n",
       "      <td>0.098</td>\n",
       "      <td>25.0</td>\n",
       "      <td>67.0</td>\n",
       "      <td>0.9968</td>\n",
       "      <td>3.20</td>\n",
       "      <td>0.68</td>\n",
       "      <td>9.8</td>\n",
       "      <td>5</td>\n",
       "    </tr>\n",
       "    <tr>\n",
       "      <th>2</th>\n",
       "      <td>7.8</td>\n",
       "      <td>0.76</td>\n",
       "      <td>0.04</td>\n",
       "      <td>2.3</td>\n",
       "      <td>0.092</td>\n",
       "      <td>15.0</td>\n",
       "      <td>54.0</td>\n",
       "      <td>0.9970</td>\n",
       "      <td>3.26</td>\n",
       "      <td>0.65</td>\n",
       "      <td>9.8</td>\n",
       "      <td>5</td>\n",
       "    </tr>\n",
       "    <tr>\n",
       "      <th>3</th>\n",
       "      <td>11.2</td>\n",
       "      <td>0.28</td>\n",
       "      <td>0.56</td>\n",
       "      <td>1.9</td>\n",
       "      <td>0.075</td>\n",
       "      <td>17.0</td>\n",
       "      <td>60.0</td>\n",
       "      <td>0.9980</td>\n",
       "      <td>3.16</td>\n",
       "      <td>0.58</td>\n",
       "      <td>9.8</td>\n",
       "      <td>6</td>\n",
       "    </tr>\n",
       "    <tr>\n",
       "      <th>4</th>\n",
       "      <td>7.4</td>\n",
       "      <td>0.70</td>\n",
       "      <td>0.00</td>\n",
       "      <td>1.9</td>\n",
       "      <td>0.076</td>\n",
       "      <td>11.0</td>\n",
       "      <td>34.0</td>\n",
       "      <td>0.9978</td>\n",
       "      <td>3.51</td>\n",
       "      <td>0.56</td>\n",
       "      <td>9.4</td>\n",
       "      <td>5</td>\n",
       "    </tr>\n",
       "  </tbody>\n",
       "</table>\n",
       "</div>"
      ],
      "text/plain": [
       "   fixed acidity  volatile acidity  citric acid  residual sugar  chlorides  \\\n",
       "0            7.4              0.70         0.00             1.9      0.076   \n",
       "1            7.8              0.88         0.00             2.6      0.098   \n",
       "2            7.8              0.76         0.04             2.3      0.092   \n",
       "3           11.2              0.28         0.56             1.9      0.075   \n",
       "4            7.4              0.70         0.00             1.9      0.076   \n",
       "\n",
       "   free sulfur dioxide  total sulfur dioxide  density    pH  sulphates  \\\n",
       "0                 11.0                  34.0   0.9978  3.51       0.56   \n",
       "1                 25.0                  67.0   0.9968  3.20       0.68   \n",
       "2                 15.0                  54.0   0.9970  3.26       0.65   \n",
       "3                 17.0                  60.0   0.9980  3.16       0.58   \n",
       "4                 11.0                  34.0   0.9978  3.51       0.56   \n",
       "\n",
       "   alcohol  quality  \n",
       "0      9.4        5  \n",
       "1      9.8        5  \n",
       "2      9.8        5  \n",
       "3      9.8        6  \n",
       "4      9.4        5  "
      ]
     },
     "execution_count": 10,
     "metadata": {},
     "output_type": "execute_result"
    }
   ],
   "source": [
    "red_dataset = pd.read_csv('winequality-red.csv', sep=';')\n",
    "white_dataset = pd.read_csv('winequality-white.csv', sep=';')\n",
    "\n",
    "\n",
    "#red & white data merged\n",
    "wine = pd.concat([red_dataset, white_dataset])\n",
    "\n",
    "wine.head()"
   ]
  },
  {
   "cell_type": "code",
   "execution_count": 11,
   "metadata": {},
   "outputs": [
    {
     "name": "stdout",
     "output_type": "stream",
     "text": [
      "<class 'pandas.core.frame.DataFrame'>\n",
      "Int64Index: 6497 entries, 0 to 4897\n",
      "Data columns (total 12 columns):\n",
      " #   Column                Non-Null Count  Dtype  \n",
      "---  ------                --------------  -----  \n",
      " 0   fixed acidity         6497 non-null   float64\n",
      " 1   volatile acidity      6497 non-null   float64\n",
      " 2   citric acid           6497 non-null   float64\n",
      " 3   residual sugar        6497 non-null   float64\n",
      " 4   chlorides             6497 non-null   float64\n",
      " 5   free sulfur dioxide   6497 non-null   float64\n",
      " 6   total sulfur dioxide  6497 non-null   float64\n",
      " 7   density               6497 non-null   float64\n",
      " 8   pH                    6497 non-null   float64\n",
      " 9   sulphates             6497 non-null   float64\n",
      " 10  alcohol               6497 non-null   float64\n",
      " 11  quality               6497 non-null   int64  \n",
      "dtypes: float64(11), int64(1)\n",
      "memory usage: 659.9 KB\n"
     ]
    }
   ],
   "source": [
    "wine.info()"
   ]
  },
  {
   "cell_type": "code",
   "execution_count": 12,
   "metadata": {},
   "outputs": [
    {
     "data": {
      "text/plain": [
       "6    2836\n",
       "5    2138\n",
       "7    1079\n",
       "4     216\n",
       "8     193\n",
       "3      30\n",
       "9       5\n",
       "Name: quality, dtype: int64"
      ]
     },
     "execution_count": 12,
     "metadata": {},
     "output_type": "execute_result"
    }
   ],
   "source": [
    "wine['quality'].value_counts()"
   ]
  },
  {
   "cell_type": "markdown",
   "metadata": {},
   "source": [
    "# Finding Correlation \n"
   ]
  },
  {
   "cell_type": "code",
   "execution_count": 13,
   "metadata": {},
   "outputs": [
    {
     "data": {
      "text/plain": [
       "<matplotlib.axes._subplots.AxesSubplot at 0x23a3bb65ec8>"
      ]
     },
     "execution_count": 13,
     "metadata": {},
     "output_type": "execute_result"
    },
    {
     "data": {
      "image/png": "[encoded data removed]",
      "text/plain": [
       "<Figure size 720x576 with 2 Axes>"
      ]
     },
     "metadata": {
      "needs_background": "light"
     },
     "output_type": "display_data"
    }
   ],
   "source": [
    "f, ax = plt.subplots(figsize=(10, 8))\n",
    "corr = wine.corr()\n",
    "sns.heatmap(corr, mask=np.zeros_like(corr, dtype=np.bool), cmap=sns.diverging_palette(220, 10, as_cmap=True),\n",
    "            square=True, ax=ax)"
   ]
  },
  {
   "cell_type": "markdown",
   "metadata": {},
   "source": [
    "## Pearson Correlation"
   ]
  },
  {
   "cell_type": "code",
   "execution_count": 14,
   "metadata": {},
   "outputs": [
    {
     "data": {
      "text/html": [
       "<div>\n",
       "<style scoped>\n",
       "    .dataframe tbody tr th:only-of-type {\n",
       "        vertical-align: middle;\n",
       "    }\n",
       "\n",
       "    .dataframe tbody tr th {\n",
       "        vertical-align: top;\n",
       "    }\n",
       "\n",
       "    .dataframe thead th {\n",
       "        text-align: right;\n",
       "    }\n",
       "</style>\n",
       "<table border=\"1\" class=\"dataframe\">\n",
       "  <thead>\n",
       "    <tr style=\"text-align: right;\">\n",
       "      <th></th>\n",
       "      <th>fixed acidity</th>\n",
       "      <th>volatile acidity</th>\n",
       "      <th>citric acid</th>\n",
       "      <th>residual sugar</th>\n",
       "      <th>chlorides</th>\n",
       "      <th>free sulfur dioxide</th>\n",
       "      <th>total sulfur dioxide</th>\n",
       "      <th>density</th>\n",
       "      <th>pH</th>\n",
       "      <th>sulphates</th>\n",
       "      <th>alcohol</th>\n",
       "      <th>quality</th>\n",
       "    </tr>\n",
       "  </thead>\n",
       "  <tbody>\n",
       "    <tr>\n",
       "      <th>fixed acidity</th>\n",
       "      <td>1.000000</td>\n",
       "      <td>0.219008</td>\n",
       "      <td>0.324436</td>\n",
       "      <td>-0.111981</td>\n",
       "      <td>0.298195</td>\n",
       "      <td>-0.282735</td>\n",
       "      <td>-0.329054</td>\n",
       "      <td>0.458910</td>\n",
       "      <td>-0.252700</td>\n",
       "      <td>0.299568</td>\n",
       "      <td>-0.095452</td>\n",
       "      <td>-0.076743</td>\n",
       "    </tr>\n",
       "    <tr>\n",
       "      <th>volatile acidity</th>\n",
       "      <td>0.219008</td>\n",
       "      <td>1.000000</td>\n",
       "      <td>-0.377981</td>\n",
       "      <td>-0.196011</td>\n",
       "      <td>0.377124</td>\n",
       "      <td>-0.352557</td>\n",
       "      <td>-0.414476</td>\n",
       "      <td>0.271296</td>\n",
       "      <td>0.261454</td>\n",
       "      <td>0.225984</td>\n",
       "      <td>-0.037640</td>\n",
       "      <td>-0.265699</td>\n",
       "    </tr>\n",
       "    <tr>\n",
       "      <th>citric acid</th>\n",
       "      <td>0.324436</td>\n",
       "      <td>-0.377981</td>\n",
       "      <td>1.000000</td>\n",
       "      <td>0.142451</td>\n",
       "      <td>0.038998</td>\n",
       "      <td>0.133126</td>\n",
       "      <td>0.195242</td>\n",
       "      <td>0.096154</td>\n",
       "      <td>-0.329808</td>\n",
       "      <td>0.056197</td>\n",
       "      <td>-0.010493</td>\n",
       "      <td>0.085532</td>\n",
       "    </tr>\n",
       "    <tr>\n",
       "      <th>residual sugar</th>\n",
       "      <td>-0.111981</td>\n",
       "      <td>-0.196011</td>\n",
       "      <td>0.142451</td>\n",
       "      <td>1.000000</td>\n",
       "      <td>-0.128940</td>\n",
       "      <td>0.402871</td>\n",
       "      <td>0.495482</td>\n",
       "      <td>0.552517</td>\n",
       "      <td>-0.267320</td>\n",
       "      <td>-0.185927</td>\n",
       "      <td>-0.359415</td>\n",
       "      <td>-0.036980</td>\n",
       "    </tr>\n",
       "    <tr>\n",
       "      <th>chlorides</th>\n",
       "      <td>0.298195</td>\n",
       "      <td>0.377124</td>\n",
       "      <td>0.038998</td>\n",
       "      <td>-0.128940</td>\n",
       "      <td>1.000000</td>\n",
       "      <td>-0.195045</td>\n",
       "      <td>-0.279630</td>\n",
       "      <td>0.362615</td>\n",
       "      <td>0.044708</td>\n",
       "      <td>0.395593</td>\n",
       "      <td>-0.256916</td>\n",
       "      <td>-0.200666</td>\n",
       "    </tr>\n",
       "    <tr>\n",
       "      <th>free sulfur dioxide</th>\n",
       "      <td>-0.282735</td>\n",
       "      <td>-0.352557</td>\n",
       "      <td>0.133126</td>\n",
       "      <td>0.402871</td>\n",
       "      <td>-0.195045</td>\n",
       "      <td>1.000000</td>\n",
       "      <td>0.720934</td>\n",
       "      <td>0.025717</td>\n",
       "      <td>-0.145854</td>\n",
       "      <td>-0.188457</td>\n",
       "      <td>-0.179838</td>\n",
       "      <td>0.055463</td>\n",
       "    </tr>\n",
       "    <tr>\n",
       "      <th>total sulfur dioxide</th>\n",
       "      <td>-0.329054</td>\n",
       "      <td>-0.414476</td>\n",
       "      <td>0.195242</td>\n",
       "      <td>0.495482</td>\n",
       "      <td>-0.279630</td>\n",
       "      <td>0.720934</td>\n",
       "      <td>1.000000</td>\n",
       "      <td>0.032395</td>\n",
       "      <td>-0.238413</td>\n",
       "      <td>-0.275727</td>\n",
       "      <td>-0.265740</td>\n",
       "      <td>-0.041385</td>\n",
       "    </tr>\n",
       "    <tr>\n",
       "      <th>density</th>\n",
       "      <td>0.458910</td>\n",
       "      <td>0.271296</td>\n",
       "      <td>0.096154</td>\n",
       "      <td>0.552517</td>\n",
       "      <td>0.362615</td>\n",
       "      <td>0.025717</td>\n",
       "      <td>0.032395</td>\n",
       "      <td>1.000000</td>\n",
       "      <td>0.011686</td>\n",
       "      <td>0.259478</td>\n",
       "      <td>-0.686745</td>\n",
       "      <td>-0.305858</td>\n",
       "    </tr>\n",
       "    <tr>\n",
       "      <th>pH</th>\n",
       "      <td>-0.252700</td>\n",
       "      <td>0.261454</td>\n",
       "      <td>-0.329808</td>\n",
       "      <td>-0.267320</td>\n",
       "      <td>0.044708</td>\n",
       "      <td>-0.145854</td>\n",
       "      <td>-0.238413</td>\n",
       "      <td>0.011686</td>\n",
       "      <td>1.000000</td>\n",
       "      <td>0.192123</td>\n",
       "      <td>0.121248</td>\n",
       "      <td>0.019506</td>\n",
       "    </tr>\n",
       "    <tr>\n",
       "      <th>sulphates</th>\n",
       "      <td>0.299568</td>\n",
       "      <td>0.225984</td>\n",
       "      <td>0.056197</td>\n",
       "      <td>-0.185927</td>\n",
       "      <td>0.395593</td>\n",
       "      <td>-0.188457</td>\n",
       "      <td>-0.275727</td>\n",
       "      <td>0.259478</td>\n",
       "      <td>0.192123</td>\n",
       "      <td>1.000000</td>\n",
       "      <td>-0.003029</td>\n",
       "      <td>0.038485</td>\n",
       "    </tr>\n",
       "    <tr>\n",
       "      <th>alcohol</th>\n",
       "      <td>-0.095452</td>\n",
       "      <td>-0.037640</td>\n",
       "      <td>-0.010493</td>\n",
       "      <td>-0.359415</td>\n",
       "      <td>-0.256916</td>\n",
       "      <td>-0.179838</td>\n",
       "      <td>-0.265740</td>\n",
       "      <td>-0.686745</td>\n",
       "      <td>0.121248</td>\n",
       "      <td>-0.003029</td>\n",
       "      <td>1.000000</td>\n",
       "      <td>0.444319</td>\n",
       "    </tr>\n",
       "    <tr>\n",
       "      <th>quality</th>\n",
       "      <td>-0.076743</td>\n",
       "      <td>-0.265699</td>\n",
       "      <td>0.085532</td>\n",
       "      <td>-0.036980</td>\n",
       "      <td>-0.200666</td>\n",
       "      <td>0.055463</td>\n",
       "      <td>-0.041385</td>\n",
       "      <td>-0.305858</td>\n",
       "      <td>0.019506</td>\n",
       "      <td>0.038485</td>\n",
       "      <td>0.444319</td>\n",
       "      <td>1.000000</td>\n",
       "    </tr>\n",
       "  </tbody>\n",
       "</table>\n",
       "</div>"
      ],
      "text/plain": [
       "                      fixed acidity  volatile acidity  citric acid  \\\n",
       "fixed acidity              1.000000          0.219008     0.324436   \n",
       "volatile acidity           0.219008          1.000000    -0.377981   \n",
       "citric acid                0.324436         -0.377981     1.000000   \n",
       "residual sugar            -0.111981         -0.196011     0.142451   \n",
       "chlorides                  0.298195          0.377124     0.038998   \n",
       "free sulfur dioxide       -0.282735         -0.352557     0.133126   \n",
       "total sulfur dioxide      -0.329054         -0.414476     0.195242   \n",
       "density                    0.458910          0.271296     0.096154   \n",
       "pH                        -0.252700          0.261454    -0.329808   \n",
       "sulphates                  0.299568          0.225984     0.056197   \n",
       "alcohol                   -0.095452         -0.037640    -0.010493   \n",
       "quality                   -0.076743         -0.265699     0.085532   \n",
       "\n",
       "                      residual sugar  chlorides  free sulfur dioxide  \\\n",
       "fixed acidity              -0.111981   0.298195            -0.282735   \n",
       "volatile acidity           -0.196011   0.377124            -0.352557   \n",
       "citric acid                 0.142451   0.038998             0.133126   \n",
       "residual sugar              1.000000  -0.128940             0.402871   \n",
       "chlorides                  -0.128940   1.000000            -0.195045   \n",
       "free sulfur dioxide         0.402871  -0.195045             1.000000   \n",
       "total sulfur dioxide        0.495482  -0.279630             0.720934   \n",
       "density                     0.552517   0.362615             0.025717   \n",
       "pH                         -0.267320   0.044708            -0.145854   \n",
       "sulphates                  -0.185927   0.395593            -0.188457   \n",
       "alcohol                    -0.359415  -0.256916            -0.179838   \n",
       "quality                    -0.036980  -0.200666             0.055463   \n",
       "\n",
       "                      total sulfur dioxide   density        pH  sulphates  \\\n",
       "fixed acidity                    -0.329054  0.458910 -0.252700   0.299568   \n",
       "volatile acidity                 -0.414476  0.271296  0.261454   0.225984   \n",
       "citric acid                       0.195242  0.096154 -0.329808   0.056197   \n",
       "residual sugar                    0.495482  0.552517 -0.267320  -0.185927   \n",
       "chlorides                        -0.279630  0.362615  0.044708   0.395593   \n",
       "free sulfur dioxide               0.720934  0.025717 -0.145854  -0.188457   \n",
       "total sulfur dioxide              1.000000  0.032395 -0.238413  -0.275727   \n",
       "density                           0.032395  1.000000  0.011686   0.259478   \n",
       "pH                               -0.238413  0.011686  1.000000   0.192123   \n",
       "sulphates                        -0.275727  0.259478  0.192123   1.000000   \n",
       "alcohol                          -0.265740 -0.686745  0.121248  -0.003029   \n",
       "quality                          -0.041385 -0.305858  0.019506   0.038485   \n",
       "\n",
       "                       alcohol   quality  \n",
       "fixed acidity        -0.095452 -0.076743  \n",
       "volatile acidity     -0.037640 -0.265699  \n",
       "citric acid          -0.010493  0.085532  \n",
       "residual sugar       -0.359415 -0.036980  \n",
       "chlorides            -0.256916 -0.200666  \n",
       "free sulfur dioxide  -0.179838  0.055463  \n",
       "total sulfur dioxide -0.265740 -0.041385  \n",
       "density              -0.686745 -0.305858  \n",
       "pH                    0.121248  0.019506  \n",
       "sulphates            -0.003029  0.038485  \n",
       "alcohol               1.000000  0.444319  \n",
       "quality               0.444319  1.000000  "
      ]
     },
     "execution_count": 14,
     "metadata": {},
     "output_type": "execute_result"
    }
   ],
   "source": [
    "pearson_correlation = wine.corr(method ='pearson')\n",
    "pearson_correlation"
   ]
  },
  {
   "cell_type": "code",
   "execution_count": 15,
   "metadata": {},
   "outputs": [
    {
     "data": {
      "text/plain": [
       "quality                1.000000\n",
       "alcohol                0.444319\n",
       "citric acid            0.085532\n",
       "free sulfur dioxide    0.055463\n",
       "Name: quality, dtype: float64"
      ]
     },
     "execution_count": 15,
     "metadata": {},
     "output_type": "execute_result"
    }
   ],
   "source": [
    "# Find the top 3 correlation values for quality, exclude the top equal to 1, correlation with itself is always 1\n",
    "# quality corr with quality = 1 , exclude this\n",
    "quality_p = pearson_correlation['quality']\n",
    "quality_p.nlargest(4)"
   ]
  },
  {
   "cell_type": "code",
   "execution_count": 16,
   "metadata": {},
   "outputs": [
    {
     "data": {
      "text/plain": [
       "density            -0.305858\n",
       "volatile acidity   -0.265699\n",
       "chlorides          -0.200666\n",
       "Name: quality, dtype: float64"
      ]
     },
     "execution_count": 16,
     "metadata": {},
     "output_type": "execute_result"
    }
   ],
   "source": [
    "# What about finding top 3 most negative correlation?\n",
    "quality_p = pearson_correlation['quality']\n",
    "quality_p.nsmallest(3)"
   ]
  },
  {
   "cell_type": "markdown",
   "metadata": {},
   "source": [
    "## Spearman Correlation "
   ]
  },
  {
   "cell_type": "code",
   "execution_count": 17,
   "metadata": {},
   "outputs": [
    {
     "data": {
      "text/html": [
       "<div>\n",
       "<style scoped>\n",
       "    .dataframe tbody tr th:only-of-type {\n",
       "        vertical-align: middle;\n",
       "    }\n",
       "\n",
       "    .dataframe tbody tr th {\n",
       "        vertical-align: top;\n",
       "    }\n",
       "\n",
       "    .dataframe thead th {\n",
       "        text-align: right;\n",
       "    }\n",
       "</style>\n",
       "<table border=\"1\" class=\"dataframe\">\n",
       "  <thead>\n",
       "    <tr style=\"text-align: right;\">\n",
       "      <th></th>\n",
       "      <th>fixed acidity</th>\n",
       "      <th>volatile acidity</th>\n",
       "      <th>citric acid</th>\n",
       "      <th>residual sugar</th>\n",
       "      <th>chlorides</th>\n",
       "      <th>free sulfur dioxide</th>\n",
       "      <th>total sulfur dioxide</th>\n",
       "      <th>density</th>\n",
       "      <th>pH</th>\n",
       "      <th>sulphates</th>\n",
       "      <th>alcohol</th>\n",
       "      <th>quality</th>\n",
       "    </tr>\n",
       "  </thead>\n",
       "  <tbody>\n",
       "    <tr>\n",
       "      <th>fixed acidity</th>\n",
       "      <td>1.000000</td>\n",
       "      <td>0.200272</td>\n",
       "      <td>0.270568</td>\n",
       "      <td>-0.032254</td>\n",
       "      <td>0.355964</td>\n",
       "      <td>-0.259914</td>\n",
       "      <td>-0.233259</td>\n",
       "      <td>0.434056</td>\n",
       "      <td>-0.250044</td>\n",
       "      <td>0.220145</td>\n",
       "      <td>-0.110650</td>\n",
       "      <td>-0.098154</td>\n",
       "    </tr>\n",
       "    <tr>\n",
       "      <th>volatile acidity</th>\n",
       "      <td>0.200272</td>\n",
       "      <td>1.000000</td>\n",
       "      <td>-0.295129</td>\n",
       "      <td>-0.064384</td>\n",
       "      <td>0.415896</td>\n",
       "      <td>-0.365673</td>\n",
       "      <td>-0.343534</td>\n",
       "      <td>0.261437</td>\n",
       "      <td>0.194876</td>\n",
       "      <td>0.255042</td>\n",
       "      <td>-0.023924</td>\n",
       "      <td>-0.257806</td>\n",
       "    </tr>\n",
       "    <tr>\n",
       "      <th>citric acid</th>\n",
       "      <td>0.270568</td>\n",
       "      <td>-0.295129</td>\n",
       "      <td>1.000000</td>\n",
       "      <td>0.074920</td>\n",
       "      <td>-0.074084</td>\n",
       "      <td>0.122058</td>\n",
       "      <td>0.159355</td>\n",
       "      <td>0.065690</td>\n",
       "      <td>-0.285905</td>\n",
       "      <td>0.036898</td>\n",
       "      <td>0.019653</td>\n",
       "      <td>0.105711</td>\n",
       "    </tr>\n",
       "    <tr>\n",
       "      <th>residual sugar</th>\n",
       "      <td>-0.032254</td>\n",
       "      <td>-0.064384</td>\n",
       "      <td>0.074920</td>\n",
       "      <td>1.000000</td>\n",
       "      <td>-0.035800</td>\n",
       "      <td>0.387750</td>\n",
       "      <td>0.454886</td>\n",
       "      <td>0.526664</td>\n",
       "      <td>-0.229344</td>\n",
       "      <td>-0.138157</td>\n",
       "      <td>-0.329218</td>\n",
       "      <td>-0.016891</td>\n",
       "    </tr>\n",
       "    <tr>\n",
       "      <th>chlorides</th>\n",
       "      <td>0.355964</td>\n",
       "      <td>0.415896</td>\n",
       "      <td>-0.074084</td>\n",
       "      <td>-0.035800</td>\n",
       "      <td>1.000000</td>\n",
       "      <td>-0.260421</td>\n",
       "      <td>-0.268434</td>\n",
       "      <td>0.590729</td>\n",
       "      <td>0.163528</td>\n",
       "      <td>0.370450</td>\n",
       "      <td>-0.401270</td>\n",
       "      <td>-0.295054</td>\n",
       "    </tr>\n",
       "    <tr>\n",
       "      <th>free sulfur dioxide</th>\n",
       "      <td>-0.259914</td>\n",
       "      <td>-0.365673</td>\n",
       "      <td>0.122058</td>\n",
       "      <td>0.387750</td>\n",
       "      <td>-0.260421</td>\n",
       "      <td>1.000000</td>\n",
       "      <td>0.741438</td>\n",
       "      <td>0.005841</td>\n",
       "      <td>-0.164699</td>\n",
       "      <td>-0.221062</td>\n",
       "      <td>-0.186046</td>\n",
       "      <td>0.086865</td>\n",
       "    </tr>\n",
       "    <tr>\n",
       "      <th>total sulfur dioxide</th>\n",
       "      <td>-0.233259</td>\n",
       "      <td>-0.343534</td>\n",
       "      <td>0.159355</td>\n",
       "      <td>0.454886</td>\n",
       "      <td>-0.268434</td>\n",
       "      <td>0.741438</td>\n",
       "      <td>1.000000</td>\n",
       "      <td>0.061540</td>\n",
       "      <td>-0.242719</td>\n",
       "      <td>-0.256745</td>\n",
       "      <td>-0.308982</td>\n",
       "      <td>-0.054777</td>\n",
       "    </tr>\n",
       "    <tr>\n",
       "      <th>density</th>\n",
       "      <td>0.434056</td>\n",
       "      <td>0.261437</td>\n",
       "      <td>0.065690</td>\n",
       "      <td>0.526664</td>\n",
       "      <td>0.590729</td>\n",
       "      <td>0.005841</td>\n",
       "      <td>0.061540</td>\n",
       "      <td>1.000000</td>\n",
       "      <td>0.011777</td>\n",
       "      <td>0.274792</td>\n",
       "      <td>-0.699442</td>\n",
       "      <td>-0.322806</td>\n",
       "    </tr>\n",
       "    <tr>\n",
       "      <th>pH</th>\n",
       "      <td>-0.250044</td>\n",
       "      <td>0.194876</td>\n",
       "      <td>-0.285905</td>\n",
       "      <td>-0.229344</td>\n",
       "      <td>0.163528</td>\n",
       "      <td>-0.164699</td>\n",
       "      <td>-0.242719</td>\n",
       "      <td>0.011777</td>\n",
       "      <td>1.000000</td>\n",
       "      <td>0.254263</td>\n",
       "      <td>0.140225</td>\n",
       "      <td>0.032538</td>\n",
       "    </tr>\n",
       "    <tr>\n",
       "      <th>sulphates</th>\n",
       "      <td>0.220145</td>\n",
       "      <td>0.255042</td>\n",
       "      <td>0.036898</td>\n",
       "      <td>-0.138157</td>\n",
       "      <td>0.370450</td>\n",
       "      <td>-0.221062</td>\n",
       "      <td>-0.256745</td>\n",
       "      <td>0.274792</td>\n",
       "      <td>0.254263</td>\n",
       "      <td>1.000000</td>\n",
       "      <td>0.004583</td>\n",
       "      <td>0.029831</td>\n",
       "    </tr>\n",
       "    <tr>\n",
       "      <th>alcohol</th>\n",
       "      <td>-0.110650</td>\n",
       "      <td>-0.023924</td>\n",
       "      <td>0.019653</td>\n",
       "      <td>-0.329218</td>\n",
       "      <td>-0.401270</td>\n",
       "      <td>-0.186046</td>\n",
       "      <td>-0.308982</td>\n",
       "      <td>-0.699442</td>\n",
       "      <td>0.140225</td>\n",
       "      <td>0.004583</td>\n",
       "      <td>1.000000</td>\n",
       "      <td>0.446925</td>\n",
       "    </tr>\n",
       "    <tr>\n",
       "      <th>quality</th>\n",
       "      <td>-0.098154</td>\n",
       "      <td>-0.257806</td>\n",
       "      <td>0.105711</td>\n",
       "      <td>-0.016891</td>\n",
       "      <td>-0.295054</td>\n",
       "      <td>0.086865</td>\n",
       "      <td>-0.054777</td>\n",
       "      <td>-0.322806</td>\n",
       "      <td>0.032538</td>\n",
       "      <td>0.029831</td>\n",
       "      <td>0.446925</td>\n",
       "      <td>1.000000</td>\n",
       "    </tr>\n",
       "  </tbody>\n",
       "</table>\n",
       "</div>"
      ],
      "text/plain": [
       "                      fixed acidity  volatile acidity  citric acid  \\\n",
       "fixed acidity              1.000000          0.200272     0.270568   \n",
       "volatile acidity           0.200272          1.000000    -0.295129   \n",
       "citric acid                0.270568         -0.295129     1.000000   \n",
       "residual sugar            -0.032254         -0.064384     0.074920   \n",
       "chlorides                  0.355964          0.415896    -0.074084   \n",
       "free sulfur dioxide       -0.259914         -0.365673     0.122058   \n",
       "total sulfur dioxide      -0.233259         -0.343534     0.159355   \n",
       "density                    0.434056          0.261437     0.065690   \n",
       "pH                        -0.250044          0.194876    -0.285905   \n",
       "sulphates                  0.220145          0.255042     0.036898   \n",
       "alcohol                   -0.110650         -0.023924     0.019653   \n",
       "quality                   -0.098154         -0.257806     0.105711   \n",
       "\n",
       "                      residual sugar  chlorides  free sulfur dioxide  \\\n",
       "fixed acidity              -0.032254   0.355964            -0.259914   \n",
       "volatile acidity           -0.064384   0.415896            -0.365673   \n",
       "citric acid                 0.074920  -0.074084             0.122058   \n",
       "residual sugar              1.000000  -0.035800             0.387750   \n",
       "chlorides                  -0.035800   1.000000            -0.260421   \n",
       "free sulfur dioxide         0.387750  -0.260421             1.000000   \n",
       "total sulfur dioxide        0.454886  -0.268434             0.741438   \n",
       "density                     0.526664   0.590729             0.005841   \n",
       "pH                         -0.229344   0.163528            -0.164699   \n",
       "sulphates                  -0.138157   0.370450            -0.221062   \n",
       "alcohol                    -0.329218  -0.401270            -0.186046   \n",
       "quality                    -0.016891  -0.295054             0.086865   \n",
       "\n",
       "                      total sulfur dioxide   density        pH  sulphates  \\\n",
       "fixed acidity                    -0.233259  0.434056 -0.250044   0.220145   \n",
       "volatile acidity                 -0.343534  0.261437  0.194876   0.255042   \n",
       "citric acid                       0.159355  0.065690 -0.285905   0.036898   \n",
       "residual sugar                    0.454886  0.526664 -0.229344  -0.138157   \n",
       "chlorides                        -0.268434  0.590729  0.163528   0.370450   \n",
       "free sulfur dioxide               0.741438  0.005841 -0.164699  -0.221062   \n",
       "total sulfur dioxide              1.000000  0.061540 -0.242719  -0.256745   \n",
       "density                           0.061540  1.000000  0.011777   0.274792   \n",
       "pH                               -0.242719  0.011777  1.000000   0.254263   \n",
       "sulphates                        -0.256745  0.274792  0.254263   1.000000   \n",
       "alcohol                          -0.308982 -0.699442  0.140225   0.004583   \n",
       "quality                          -0.054777 -0.322806  0.032538   0.029831   \n",
       "\n",
       "                       alcohol   quality  \n",
       "fixed acidity        -0.110650 -0.098154  \n",
       "volatile acidity     -0.023924 -0.257806  \n",
       "citric acid           0.019653  0.105711  \n",
       "residual sugar       -0.329218 -0.016891  \n",
       "chlorides            -0.401270 -0.295054  \n",
       "free sulfur dioxide  -0.186046  0.086865  \n",
       "total sulfur dioxide -0.308982 -0.054777  \n",
       "density              -0.699442 -0.322806  \n",
       "pH                    0.140225  0.032538  \n",
       "sulphates             0.004583  0.029831  \n",
       "alcohol               1.000000  0.446925  \n",
       "quality               0.446925  1.000000  "
      ]
     },
     "execution_count": 17,
     "metadata": {},
     "output_type": "execute_result"
    }
   ],
   "source": [
    "spearman_correlation = wine.corr(method ='spearman')\n",
    "spearman_correlation"
   ]
  },
  {
   "cell_type": "code",
   "execution_count": 18,
   "metadata": {},
   "outputs": [
    {
     "data": {
      "text/plain": [
       "quality                1.000000\n",
       "alcohol                0.444319\n",
       "citric acid            0.085532\n",
       "free sulfur dioxide    0.055463\n",
       "Name: quality, dtype: float64"
      ]
     },
     "execution_count": 18,
     "metadata": {},
     "output_type": "execute_result"
    }
   ],
   "source": [
    "quality_p = pearson_correlation['quality']\n",
    "quality_p.nlargest(4)"
   ]
  },
  {
   "cell_type": "code",
   "execution_count": 19,
   "metadata": {},
   "outputs": [
    {
     "data": {
      "text/plain": [
       "quality                1.000000\n",
       "alcohol                0.444319\n",
       "citric acid            0.085532\n",
       "free sulfur dioxide    0.055463\n",
       "Name: quality, dtype: float64"
      ]
     },
     "execution_count": 19,
     "metadata": {},
     "output_type": "execute_result"
    }
   ],
   "source": [
    "quality_p.nlargest(4)"
   ]
  },
  {
   "cell_type": "code",
   "execution_count": 20,
   "metadata": {},
   "outputs": [
    {
     "data": {
      "text/plain": [
       "density            -0.305858\n",
       "volatile acidity   -0.265699\n",
       "chlorides          -0.200666\n",
       "Name: quality, dtype: float64"
      ]
     },
     "execution_count": 20,
     "metadata": {},
     "output_type": "execute_result"
    }
   ],
   "source": [
    "# What about finding top 3 most negative correlation?\n",
    "quality_p = pearson_correlation['quality']\n",
    "quality_p.nsmallest(3)"
   ]
  },
  {
   "cell_type": "markdown",
   "metadata": {},
   "source": [
    "## Kendall Correlation"
   ]
  },
  {
   "cell_type": "code",
   "execution_count": 21,
   "metadata": {},
   "outputs": [
    {
     "data": {
      "text/html": [
       "<div>\n",
       "<style scoped>\n",
       "    .dataframe tbody tr th:only-of-type {\n",
       "        vertical-align: middle;\n",
       "    }\n",
       "\n",
       "    .dataframe tbody tr th {\n",
       "        vertical-align: top;\n",
       "    }\n",
       "\n",
       "    .dataframe thead th {\n",
       "        text-align: right;\n",
       "    }\n",
       "</style>\n",
       "<table border=\"1\" class=\"dataframe\">\n",
       "  <thead>\n",
       "    <tr style=\"text-align: right;\">\n",
       "      <th></th>\n",
       "      <th>fixed acidity</th>\n",
       "      <th>volatile acidity</th>\n",
       "      <th>citric acid</th>\n",
       "      <th>residual sugar</th>\n",
       "      <th>chlorides</th>\n",
       "      <th>free sulfur dioxide</th>\n",
       "      <th>total sulfur dioxide</th>\n",
       "      <th>density</th>\n",
       "      <th>pH</th>\n",
       "      <th>sulphates</th>\n",
       "      <th>alcohol</th>\n",
       "      <th>quality</th>\n",
       "    </tr>\n",
       "  </thead>\n",
       "  <tbody>\n",
       "    <tr>\n",
       "      <th>fixed acidity</th>\n",
       "      <td>1.000000</td>\n",
       "      <td>0.134082</td>\n",
       "      <td>0.190290</td>\n",
       "      <td>-0.018808</td>\n",
       "      <td>0.249126</td>\n",
       "      <td>-0.177936</td>\n",
       "      <td>-0.153720</td>\n",
       "      <td>0.303833</td>\n",
       "      <td>-0.172497</td>\n",
       "      <td>0.152473</td>\n",
       "      <td>-0.074303</td>\n",
       "      <td>-0.075990</td>\n",
       "    </tr>\n",
       "    <tr>\n",
       "      <th>volatile acidity</th>\n",
       "      <td>0.134082</td>\n",
       "      <td>1.000000</td>\n",
       "      <td>-0.201494</td>\n",
       "      <td>-0.053017</td>\n",
       "      <td>0.281802</td>\n",
       "      <td>-0.248022</td>\n",
       "      <td>-0.223240</td>\n",
       "      <td>0.174296</td>\n",
       "      <td>0.135709</td>\n",
       "      <td>0.173354</td>\n",
       "      <td>-0.013494</td>\n",
       "      <td>-0.199101</td>\n",
       "    </tr>\n",
       "    <tr>\n",
       "      <th>citric acid</th>\n",
       "      <td>0.190290</td>\n",
       "      <td>-0.201494</td>\n",
       "      <td>1.000000</td>\n",
       "      <td>0.052812</td>\n",
       "      <td>-0.050553</td>\n",
       "      <td>0.087468</td>\n",
       "      <td>0.112589</td>\n",
       "      <td>0.041026</td>\n",
       "      <td>-0.198630</td>\n",
       "      <td>0.023656</td>\n",
       "      <td>0.013566</td>\n",
       "      <td>0.082160</td>\n",
       "    </tr>\n",
       "    <tr>\n",
       "      <th>residual sugar</th>\n",
       "      <td>-0.018808</td>\n",
       "      <td>-0.053017</td>\n",
       "      <td>0.052812</td>\n",
       "      <td>1.000000</td>\n",
       "      <td>-0.017854</td>\n",
       "      <td>0.263818</td>\n",
       "      <td>0.305388</td>\n",
       "      <td>0.382221</td>\n",
       "      <td>-0.159924</td>\n",
       "      <td>-0.092279</td>\n",
       "      <td>-0.226004</td>\n",
       "      <td>-0.013097</td>\n",
       "    </tr>\n",
       "    <tr>\n",
       "      <th>chlorides</th>\n",
       "      <td>0.249126</td>\n",
       "      <td>0.281802</td>\n",
       "      <td>-0.050553</td>\n",
       "      <td>-0.017854</td>\n",
       "      <td>1.000000</td>\n",
       "      <td>-0.170156</td>\n",
       "      <td>-0.151690</td>\n",
       "      <td>0.414107</td>\n",
       "      <td>0.110776</td>\n",
       "      <td>0.259475</td>\n",
       "      <td>-0.275747</td>\n",
       "      <td>-0.228872</td>\n",
       "    </tr>\n",
       "    <tr>\n",
       "      <th>free sulfur dioxide</th>\n",
       "      <td>-0.177936</td>\n",
       "      <td>-0.248022</td>\n",
       "      <td>0.087468</td>\n",
       "      <td>0.263818</td>\n",
       "      <td>-0.170156</td>\n",
       "      <td>1.000000</td>\n",
       "      <td>0.559478</td>\n",
       "      <td>0.001132</td>\n",
       "      <td>-0.111764</td>\n",
       "      <td>-0.150723</td>\n",
       "      <td>-0.123386</td>\n",
       "      <td>0.066713</td>\n",
       "    </tr>\n",
       "    <tr>\n",
       "      <th>total sulfur dioxide</th>\n",
       "      <td>-0.153720</td>\n",
       "      <td>-0.223240</td>\n",
       "      <td>0.112589</td>\n",
       "      <td>0.305388</td>\n",
       "      <td>-0.151690</td>\n",
       "      <td>0.559478</td>\n",
       "      <td>1.000000</td>\n",
       "      <td>0.050936</td>\n",
       "      <td>-0.163244</td>\n",
       "      <td>-0.164785</td>\n",
       "      <td>-0.206316</td>\n",
       "      <td>-0.042283</td>\n",
       "    </tr>\n",
       "    <tr>\n",
       "      <th>density</th>\n",
       "      <td>0.303833</td>\n",
       "      <td>0.174296</td>\n",
       "      <td>0.041026</td>\n",
       "      <td>0.382221</td>\n",
       "      <td>0.414107</td>\n",
       "      <td>0.001132</td>\n",
       "      <td>0.050936</td>\n",
       "      <td>1.000000</td>\n",
       "      <td>0.008425</td>\n",
       "      <td>0.188499</td>\n",
       "      <td>-0.521495</td>\n",
       "      <td>-0.247978</td>\n",
       "    </tr>\n",
       "    <tr>\n",
       "      <th>pH</th>\n",
       "      <td>-0.172497</td>\n",
       "      <td>0.135709</td>\n",
       "      <td>-0.198630</td>\n",
       "      <td>-0.159924</td>\n",
       "      <td>0.110776</td>\n",
       "      <td>-0.111764</td>\n",
       "      <td>-0.163244</td>\n",
       "      <td>0.008425</td>\n",
       "      <td>1.000000</td>\n",
       "      <td>0.174444</td>\n",
       "      <td>0.096921</td>\n",
       "      <td>0.025223</td>\n",
       "    </tr>\n",
       "    <tr>\n",
       "      <th>sulphates</th>\n",
       "      <td>0.152473</td>\n",
       "      <td>0.173354</td>\n",
       "      <td>0.023656</td>\n",
       "      <td>-0.092279</td>\n",
       "      <td>0.259475</td>\n",
       "      <td>-0.150723</td>\n",
       "      <td>-0.164785</td>\n",
       "      <td>0.188499</td>\n",
       "      <td>0.174444</td>\n",
       "      <td>1.000000</td>\n",
       "      <td>0.008588</td>\n",
       "      <td>0.023679</td>\n",
       "    </tr>\n",
       "    <tr>\n",
       "      <th>alcohol</th>\n",
       "      <td>-0.074303</td>\n",
       "      <td>-0.013494</td>\n",
       "      <td>0.013566</td>\n",
       "      <td>-0.226004</td>\n",
       "      <td>-0.275747</td>\n",
       "      <td>-0.123386</td>\n",
       "      <td>-0.206316</td>\n",
       "      <td>-0.521495</td>\n",
       "      <td>0.096921</td>\n",
       "      <td>0.008588</td>\n",
       "      <td>1.000000</td>\n",
       "      <td>0.352430</td>\n",
       "    </tr>\n",
       "    <tr>\n",
       "      <th>quality</th>\n",
       "      <td>-0.075990</td>\n",
       "      <td>-0.199101</td>\n",
       "      <td>0.082160</td>\n",
       "      <td>-0.013097</td>\n",
       "      <td>-0.228872</td>\n",
       "      <td>0.066713</td>\n",
       "      <td>-0.042283</td>\n",
       "      <td>-0.247978</td>\n",
       "      <td>0.025223</td>\n",
       "      <td>0.023679</td>\n",
       "      <td>0.352430</td>\n",
       "      <td>1.000000</td>\n",
       "    </tr>\n",
       "  </tbody>\n",
       "</table>\n",
       "</div>"
      ],
      "text/plain": [
       "                      fixed acidity  volatile acidity  citric acid  \\\n",
       "fixed acidity              1.000000          0.134082     0.190290   \n",
       "volatile acidity           0.134082          1.000000    -0.201494   \n",
       "citric acid                0.190290         -0.201494     1.000000   \n",
       "residual sugar            -0.018808         -0.053017     0.052812   \n",
       "chlorides                  0.249126          0.281802    -0.050553   \n",
       "free sulfur dioxide       -0.177936         -0.248022     0.087468   \n",
       "total sulfur dioxide      -0.153720         -0.223240     0.112589   \n",
       "density                    0.303833          0.174296     0.041026   \n",
       "pH                        -0.172497          0.135709    -0.198630   \n",
       "sulphates                  0.152473          0.173354     0.023656   \n",
       "alcohol                   -0.074303         -0.013494     0.013566   \n",
       "quality                   -0.075990         -0.199101     0.082160   \n",
       "\n",
       "                      residual sugar  chlorides  free sulfur dioxide  \\\n",
       "fixed acidity              -0.018808   0.249126            -0.177936   \n",
       "volatile acidity           -0.053017   0.281802            -0.248022   \n",
       "citric acid                 0.052812  -0.050553             0.087468   \n",
       "residual sugar              1.000000  -0.017854             0.263818   \n",
       "chlorides                  -0.017854   1.000000            -0.170156   \n",
       "free sulfur dioxide         0.263818  -0.170156             1.000000   \n",
       "total sulfur dioxide        0.305388  -0.151690             0.559478   \n",
       "density                     0.382221   0.414107             0.001132   \n",
       "pH                         -0.159924   0.110776            -0.111764   \n",
       "sulphates                  -0.092279   0.259475            -0.150723   \n",
       "alcohol                    -0.226004  -0.275747            -0.123386   \n",
       "quality                    -0.013097  -0.228872             0.066713   \n",
       "\n",
       "                      total sulfur dioxide   density        pH  sulphates  \\\n",
       "fixed acidity                    -0.153720  0.303833 -0.172497   0.152473   \n",
       "volatile acidity                 -0.223240  0.174296  0.135709   0.173354   \n",
       "citric acid                       0.112589  0.041026 -0.198630   0.023656   \n",
       "residual sugar                    0.305388  0.382221 -0.159924  -0.092279   \n",
       "chlorides                        -0.151690  0.414107  0.110776   0.259475   \n",
       "free sulfur dioxide               0.559478  0.001132 -0.111764  -0.150723   \n",
       "total sulfur dioxide              1.000000  0.050936 -0.163244  -0.164785   \n",
       "density                           0.050936  1.000000  0.008425   0.188499   \n",
       "pH                               -0.163244  0.008425  1.000000   0.174444   \n",
       "sulphates                        -0.164785  0.188499  0.174444   1.000000   \n",
       "alcohol                          -0.206316 -0.521495  0.096921   0.008588   \n",
       "quality                          -0.042283 -0.247978  0.025223   0.023679   \n",
       "\n",
       "                       alcohol   quality  \n",
       "fixed acidity        -0.074303 -0.075990  \n",
       "volatile acidity     -0.013494 -0.199101  \n",
       "citric acid           0.013566  0.082160  \n",
       "residual sugar       -0.226004 -0.013097  \n",
       "chlorides            -0.275747 -0.228872  \n",
       "free sulfur dioxide  -0.123386  0.066713  \n",
       "total sulfur dioxide -0.206316 -0.042283  \n",
       "density              -0.521495 -0.247978  \n",
       "pH                    0.096921  0.025223  \n",
       "sulphates             0.008588  0.023679  \n",
       "alcohol               1.000000  0.352430  \n",
       "quality               0.352430  1.000000  "
      ]
     },
     "execution_count": 21,
     "metadata": {},
     "output_type": "execute_result"
    }
   ],
   "source": [
    "kendall_correlation = wine.corr(method ='kendall')\n",
    "kendall_correlation"
   ]
  },
  {
   "cell_type": "code",
   "execution_count": 22,
   "metadata": {},
   "outputs": [
    {
     "data": {
      "text/plain": [
       "quality                1.000000\n",
       "alcohol                0.352430\n",
       "citric acid            0.082160\n",
       "free sulfur dioxide    0.066713\n",
       "Name: quality, dtype: float64"
      ]
     },
     "execution_count": 22,
     "metadata": {},
     "output_type": "execute_result"
    }
   ],
   "source": [
    "# Find the top 3 positive correlation values for quality, exclude the top equal to 1, correlation with itself is always 1\n",
    "# quality corr with quality = 1 , exclude this\n",
    "\n",
    "quality_k = kendall_correlation['quality']\n",
    "quality_k.nlargest(4)"
   ]
  },
  {
   "cell_type": "code",
   "execution_count": 23,
   "metadata": {},
   "outputs": [
    {
     "data": {
      "text/plain": [
       "density            -0.247978\n",
       "chlorides          -0.228872\n",
       "volatile acidity   -0.199101\n",
       "fixed acidity      -0.075990\n",
       "Name: quality, dtype: float64"
      ]
     },
     "execution_count": 23,
     "metadata": {},
     "output_type": "execute_result"
    }
   ],
   "source": [
    "# What about finding top 3 most negative correlation?\n",
    "quality_k = kendall_correlation['quality']\n",
    "quality_k.nsmallest(4)\n"
   ]
  },
  {
   "cell_type": "markdown",
   "metadata": {},
   "source": [
    "## Plotting Quality Against Individual Components "
   ]
  },
  {
   "cell_type": "markdown",
   "metadata": {},
   "source": [
    "### Top 3 BEST"
   ]
  },
  {
   "cell_type": "code",
   "execution_count": 24,
   "metadata": {},
   "outputs": [
    {
     "data": {
      "text/plain": [
       "[Text(0.5, 1.0, 'Quality vs Alcohol')]"
      ]
     },
     "execution_count": 24,
     "metadata": {},
     "output_type": "execute_result"
    },
    {
     "data": {
      "image/png": "[encoded data removed]",
      "text/plain": [
       "<Figure size 360x360 with 1 Axes>"
      ]
     },
     "metadata": {
      "needs_background": "light"
     },
     "output_type": "display_data"
    }
   ],
   "source": [
    "#Quality vs Alcohol\n",
    "plot = plt.figure(figsize = (5,5))\n",
    "sns.barplot(x = \"quality\", y = \"alcohol\",data = wine).set(title='Quality vs Alcohol')"
   ]
  },
  {
   "cell_type": "code",
   "execution_count": 25,
   "metadata": {},
   "outputs": [
    {
     "data": {
      "text/plain": [
       "[Text(0.5, 1.0, 'Quality vs pH')]"
      ]
     },
     "execution_count": 25,
     "metadata": {},
     "output_type": "execute_result"
    },
    {
     "data": {
      "image/png": "[encoded data removed]",
      "text/plain": [
       "<Figure size 360x360 with 1 Axes>"
      ]
     },
     "metadata": {
      "needs_background": "light"
     },
     "output_type": "display_data"
    }
   ],
   "source": [
    "#Quality vs pH\n",
    "plot = plt.figure(figsize = (5,5))\n",
    "sns.barplot(x = \"quality\", y = \"pH\",data = wine).set(title='Quality vs pH')"
   ]
  },
  {
   "cell_type": "code",
   "execution_count": 26,
   "metadata": {},
   "outputs": [
    {
     "data": {
      "text/plain": [
       "[Text(0.5, 1.0, 'Quality vs Suplhates')]"
      ]
     },
     "execution_count": 26,
     "metadata": {},
     "output_type": "execute_result"
    },
    {
     "data": {
      "image/png": "[encoded data removed]",
      "text/plain": [
       "<Figure size 360x360 with 1 Axes>"
      ]
     },
     "metadata": {
      "needs_background": "light"
     },
     "output_type": "display_data"
    }
   ],
   "source": [
    "#Quality vs Suplhates\n",
    "plot = plt.figure(figsize = (5,5))\n",
    "sns.barplot(x = \"quality\", y = \"sulphates\",data = wine).set(title='Quality vs Suplhates')"
   ]
  },
  {
   "cell_type": "markdown",
   "metadata": {},
   "source": [
    "### Top 3 Worst "
   ]
  },
  {
   "cell_type": "code",
   "execution_count": 27,
   "metadata": {},
   "outputs": [
    {
     "data": {
      "text/plain": [
       "[Text(0.5, 1.0, 'Quality vs Density')]"
      ]
     },
     "execution_count": 27,
     "metadata": {},
     "output_type": "execute_result"
    },
    {
     "data": {
      "image/png": "[encoded data removed]",
      "text/plain": [
       "<Figure size 360x360 with 1 Axes>"
      ]
     },
     "metadata": {
      "needs_background": "light"
     },
     "output_type": "display_data"
    }
   ],
   "source": [
    "#Quality vs Density\n",
    "plot = plt.figure(figsize = (5,5))\n",
    "sns.barplot(x = \"quality\", y = \"density\",data = wine).set(title='Quality vs Density')"
   ]
  },
  {
   "cell_type": "code",
   "execution_count": 28,
   "metadata": {},
   "outputs": [
    {
     "data": {
      "text/plain": [
       "[Text(0.5, 1.0, 'Quality vs Chlorides')]"
      ]
     },
     "execution_count": 28,
     "metadata": {},
     "output_type": "execute_result"
    },
    {
     "data": {
      "image/png": "[encoded data removed]",
      "text/plain": [
       "<Figure size 360x360 with 1 Axes>"
      ]
     },
     "metadata": {
      "needs_background": "light"
     },
     "output_type": "display_data"
    }
   ],
   "source": [
    "#Quality vs Chlorides\n",
    "plot = plt.figure(figsize = (5,5))\n",
    "sns.barplot(x = \"quality\", y = \"chlorides\",data = wine).set(title='Quality vs Chlorides')"
   ]
  },
  {
   "cell_type": "code",
   "execution_count": 29,
   "metadata": {},
   "outputs": [
    {
     "data": {
      "text/plain": [
       "[Text(0.5, 1.0, 'Quality vs Volatile Acidity')]"
      ]
     },
     "execution_count": 29,
     "metadata": {},
     "output_type": "execute_result"
    },
    {
     "data": {
      "image/png": "[encoded data removed]",
      "text/plain": [
       "<Figure size 360x360 with 1 Axes>"
      ]
     },
     "metadata": {
      "needs_background": "light"
     },
     "output_type": "display_data"
    }
   ],
   "source": [
    "#Quality vs Volatile Acidity\n",
    "plot = plt.figure(figsize = (5,5))\n",
    "sns.barplot(x = \"quality\", y = \"volatile acidity\",data = wine).set(title='Quality vs Volatile Acidity')"
   ]
  },
  {
   "cell_type": "markdown",
   "metadata": {},
   "source": [
    "## Unique Values for Quality "
   ]
  },
  {
   "cell_type": "code",
   "execution_count": 30,
   "metadata": {},
   "outputs": [],
   "source": [
    "#What are the unique values for the quality ranking\n",
    "unique_values = wine.quality.unique()\n",
    "unique_values.sort()\n"
   ]
  },
  {
   "cell_type": "code",
   "execution_count": 31,
   "metadata": {},
   "outputs": [
    {
     "data": {
      "text/plain": [
       "array([3, 4, 5, 6, 7, 8, 9], dtype=int64)"
      ]
     },
     "execution_count": 31,
     "metadata": {},
     "output_type": "execute_result"
    }
   ],
   "source": [
    "unique_values "
   ]
  },
  {
   "cell_type": "code",
   "execution_count": 32,
   "metadata": {},
   "outputs": [
    {
     "data": {
      "text/plain": [
       "7"
      ]
     },
     "execution_count": 32,
     "metadata": {},
     "output_type": "execute_result"
    }
   ],
   "source": [
    "numFeatures = len(unique_values)\n",
    "numFeatures"
   ]
  },
  {
   "cell_type": "code",
   "execution_count": 33,
   "metadata": {},
   "outputs": [
    {
     "data": {
      "text/plain": [
       "<seaborn.axisgrid.FacetGrid at 0x23a3c946108>"
      ]
     },
     "execution_count": 33,
     "metadata": {},
     "output_type": "execute_result"
    },
    {
     "data": {
      "image/png": "[encoded data removed]",
      "text/plain": [
       "<Figure size 360x360 with 1 Axes>"
      ]
     },
     "metadata": {
      "needs_background": "light"
     },
     "output_type": "display_data"
    }
   ],
   "source": [
    "sns.catplot(x = 'quality', data = wine, kind = 'count').set(title='Count for Each Quality Rank')\n"
   ]
  },
  {
   "cell_type": "markdown",
   "metadata": {},
   "source": [
    "## Preparing Data: Assigning Value Quality to Binary 0-1 for Training "
   ]
  },
  {
   "cell_type": "code",
   "execution_count": 34,
   "metadata": {},
   "outputs": [],
   "source": [
    "# Quality Values are given from 1-10, and we want to classify things from good and bad, "
   ]
  },
  {
   "cell_type": "code",
   "execution_count": 35,
   "metadata": {},
   "outputs": [],
   "source": [
    "good = wine.quality > 5\n",
    "bad = wine.quality <= 5\n",
    "column_name = 'quality'\n",
    "wine.loc[good, column_name] = 1\n",
    "wine.loc[bad, column_name] = 0"
   ]
  },
  {
   "cell_type": "code",
   "execution_count": 36,
   "metadata": {},
   "outputs": [
    {
     "name": "stdout",
     "output_type": "stream",
     "text": [
      "Good Wines:  4113\n",
      "Bad Wines:  2384\n"
     ]
    }
   ],
   "source": [
    "good_count = wine['quality'].sum()\n",
    "bad_count = len(wine['quality']) - good_count\n",
    "print(\"Good Wines: \", good_count)\n",
    "print(\"Bad Wines: \", bad_count)\n"
   ]
  },
  {
   "cell_type": "code",
   "execution_count": 37,
   "metadata": {},
   "outputs": [
    {
     "data": {
      "text/plain": [
       "[Text(0.5, 1.0, 'Count of Bad Wines vs Good Wines')]"
      ]
     },
     "execution_count": 37,
     "metadata": {},
     "output_type": "execute_result"
    },
    {
     "data": {
      "image/png": "[encoded data removed]",
      "text/plain": [
       "<Figure size 432x288 with 1 Axes>"
      ]
     },
     "metadata": {
      "needs_background": "light"
     },
     "output_type": "display_data"
    }
   ],
   "source": [
    "sns.countplot(wine['quality'],palette=['#bd0000',\"#00babd\"]).set(title='Count of Bad Wines vs Good Wines')"
   ]
  },
  {
   "cell_type": "markdown",
   "metadata": {},
   "source": [
    "##  Creating training/testing sets"
   ]
  },
  {
   "cell_type": "code",
   "execution_count": 38,
   "metadata": {},
   "outputs": [
    {
     "name": "stdout",
     "output_type": "stream",
     "text": [
      "(6497, 11)\n",
      "(6497,)\n"
     ]
    }
   ],
   "source": [
    "#divide the dataset into dependent and independent variables\n",
    "x = wine.iloc[:,:11]\n",
    "y = wine.iloc[:,11]\n",
    "# Shape of x and y.\n",
    "print(x.shape)\n",
    "print(y.shape)"
   ]
  },
  {
   "cell_type": "code",
   "execution_count": 41,
   "metadata": {},
   "outputs": [
    {
     "name": "stdout",
     "output_type": "stream",
     "text": [
      "Training Shape: \n",
      "X Train:  (4872, 11)\n",
      "Y Train:  (4872,)\n",
      "\n",
      "Testing Shape: \n",
      "X test:  (1625, 11)\n",
      "Y test:  (1625,)\n"
     ]
    }
   ],
   "source": [
    "from sklearn.model_selection import train_test_split\n",
    "x_train, x_test, y_train, y_test = train_test_split(x, y, test_size = 0.25, random_state = 44)\n",
    "# Shape of train and test set\n",
    "print(\"Training Shape: \")\n",
    "print(\"X Train: \", x_train.shape)\n",
    "print(\"Y Train: \", y_train.shape)\n",
    "print(\"\")\n",
    "print(\"Testing Shape: \")\n",
    "print(\"X test: \", x_test.shape)\n",
    "print(\"Y test: \", y_test.shape)"
   ]
  },
  {
   "cell_type": "code",
   "execution_count": 40,
   "metadata": {},
   "outputs": [],
   "source": [
    "# standard scaling \n",
    "from sklearn.preprocessing import StandardScaler\n",
    "sc = StandardScaler()\n",
    "x_train = sc.fit_transform(x_train)\n",
    "x_test = sc.fit_transform(x_test)"
   ]
  },
  {
   "cell_type": "markdown",
   "metadata": {},
   "source": [
    "# Modeling "
   ]
  },
  {
   "cell_type": "code",
   "execution_count": 113,
   "metadata": {},
   "outputs": [],
   "source": [
    "#When implementing sklean packages once calling the algorithm we simply print out these stats\n",
    "\n",
    "def model_stats(model):\n",
    "    #input training model into the model\n",
    "    model.fit(x_train, y_train)\n",
    "    #predicting from test set\n",
    "    y_pred = model.predict(x_test)\n",
    "    # calculating the train and test accuracies\n",
    "    train_accuracy = model.score(x_train, y_train)\n",
    "    test_accuracy = model.score(x_test, y_test)  \n",
    "    print(\"Training accuracy :\",train_accuracy)\n",
    "    print(\"Testing accuracy :\",test_accuracy)\n",
    "    print(\"\")\n",
    "    \n",
    "    # confusion matrix\n",
    "    c_matrix = confusion_matrix(y_test, y_pred)\n",
    "    print(\"Confusion Matrix: \")\n",
    "    print(c_matrix)\n",
    "    print(\"\")\n",
    "    \n",
    "    #cross validation\n",
    "    model_eval = cross_val_score(estimator = model, X = x_train, y = y_train, cv = 10)\n",
    "    model_eval_mean = model_eval.mean()\n",
    "    print(\"Cross Validation: \", model_eval_mean)\n",
    "    print(\"\")\n",
    "    \n",
    "    # classification report\n",
    "    classification_Report = classification_report(y_test, y_pred)\n",
    "    print(\"Classification Report: \")\n",
    "    print(classification_Report)\n",
    "    \n",
    "    return train_accuracy, test_accuracy, model_eval_mean"
   ]
  },
  {
   "cell_type": "code",
   "execution_count": 125,
   "metadata": {},
   "outputs": [],
   "source": [
    "def table_data(model):\n",
    "    #input training model into the model\n",
    "    model.fit(x_train, y_train)\n",
    "    #predicting from test set\n",
    "    y_pred = model.predict(x_test)\n",
    "    # calculating the train and test accuracies\n",
    "    train_accuracy = model.score(x_train, y_train)\n",
    "    test_accuracy = model.score(x_test, y_test)  \n",
    "    #cross validation\n",
    "    model_eval = cross_val_score(estimator = model, X = x_train, y = y_train, cv = 10)\n",
    "    model_eval_mean = model_eval.mean()\n",
    "    return train_accuracy, test_accuracy, model_eval_mean"
   ]
  },
  {
   "cell_type": "markdown",
   "metadata": {},
   "source": [
    "## Logistic Regression \n",
    "\n",
    "Logistic Regression outputs predictions about test data points on a binary scale, zero or one. If the value of something is 0.5 or above, it is classified as belonging to class 1, while below 0.5 if is classified as belonging to 0.\n",
    "\n",
    "Each of the features also has a label of only 0 or 1. Logistic regression is a linear classifier and therefore used when there is some sort of linear relationship between the data."
   ]
  },
  {
   "cell_type": "code",
   "execution_count": 114,
   "metadata": {},
   "outputs": [
    {
     "name": "stdout",
     "output_type": "stream",
     "text": [
      "Training accuracy : 0.7354269293924466\n",
      "Testing accuracy : 0.4086153846153846\n",
      "\n",
      "Confusion Matrix: \n",
      "[[513  97]\n",
      " [864 151]]\n",
      "\n",
      "Cross Validation:  0.7329539334163665\n",
      "\n",
      "Classification Report: \n",
      "              precision    recall  f1-score   support\n",
      "\n",
      "           0       0.37      0.84      0.52       610\n",
      "           1       0.61      0.15      0.24      1015\n",
      "\n",
      "    accuracy                           0.41      1625\n",
      "   macro avg       0.49      0.49      0.38      1625\n",
      "weighted avg       0.52      0.41      0.34      1625\n",
      "\n"
     ]
    },
    {
     "data": {
      "text/plain": [
       "(0.7354269293924466, 0.4086153846153846, 0.7329539334163665)"
      ]
     },
     "execution_count": 114,
     "metadata": {},
     "output_type": "execute_result"
    }
   ],
   "source": [
    "from sklearn.linear_model import LogisticRegression\n",
    "from sklearn.metrics import classification_report, confusion_matrix\n",
    "from sklearn.model_selection import GridSearchCV, cross_val_score\n",
    "\n",
    "#model\n",
    "model = LogisticRegression()\n",
    "model_stats(model)"
   ]
  },
  {
   "cell_type": "markdown",
   "metadata": {},
   "source": [
    "## Stochastic Gradient Descent Classifier"
   ]
  },
  {
   "cell_type": "code",
   "execution_count": 115,
   "metadata": {
    "scrolled": true
   },
   "outputs": [
    {
     "name": "stdout",
     "output_type": "stream",
     "text": [
      "Training accuracy : 0.7220853858784894\n",
      "Testing accuracy : 0.4104615384615385\n",
      "\n",
      "Confusion Matrix: \n",
      "[[548  62]\n",
      " [896 119]]\n",
      "\n",
      "Cross Validation:  0.7136735449557343\n",
      "\n",
      "Classification Report: \n",
      "              precision    recall  f1-score   support\n",
      "\n",
      "           0       0.38      0.90      0.53       610\n",
      "           1       0.66      0.12      0.20      1015\n",
      "\n",
      "    accuracy                           0.41      1625\n",
      "   macro avg       0.52      0.51      0.37      1625\n",
      "weighted avg       0.55      0.41      0.32      1625\n",
      "\n"
     ]
    },
    {
     "data": {
      "text/plain": [
       "(0.7220853858784894, 0.4104615384615385, 0.7136735449557343)"
      ]
     },
     "execution_count": 115,
     "metadata": {},
     "output_type": "execute_result"
    }
   ],
   "source": [
    "from sklearn.linear_model import SGDClassifier\n",
    "\n",
    "#model\n",
    "model = SGDClassifier(penalty=None)\n",
    "model_stats(model)"
   ]
  },
  {
   "cell_type": "markdown",
   "metadata": {},
   "source": [
    "## Decision Forest \n",
    "\n",
    "A Decision Tree Classifier functions by breaking down a dataset into smaller and smaller subsets based on different criteria. Different sorting criteria will be used to divide the dataset, with the number of examples getting smaller with every division.\n",
    "\n",
    "Once the network has divided the data down to one example, the example will be put into a class that corresponds to a key. When multiple random forest classifiers are linked together they are called Random Forest Classifiers."
   ]
  },
  {
   "cell_type": "code",
   "execution_count": 116,
   "metadata": {},
   "outputs": [
    {
     "name": "stdout",
     "output_type": "stream",
     "text": [
      "Training accuracy : 1.0\n",
      "Testing accuracy : 0.3710769230769231\n",
      "\n",
      "Confusion Matrix: \n",
      "[[ 601    9]\n",
      " [1013    2]]\n",
      "\n",
      "Cross Validation:  0.7662032517588447\n",
      "\n",
      "Classification Report: \n",
      "              precision    recall  f1-score   support\n",
      "\n",
      "           0       0.37      0.99      0.54       610\n",
      "           1       0.18      0.00      0.00      1015\n",
      "\n",
      "    accuracy                           0.37      1625\n",
      "   macro avg       0.28      0.49      0.27      1625\n",
      "weighted avg       0.25      0.37      0.21      1625\n",
      "\n"
     ]
    },
    {
     "data": {
      "text/plain": [
       "(1.0, 0.3710769230769231, 0.7662032517588447)"
      ]
     },
     "execution_count": 116,
     "metadata": {},
     "output_type": "execute_result"
    }
   ],
   "source": [
    "from sklearn.tree import DecisionTreeClassifier\n",
    "\n",
    "# model \n",
    "model = DecisionTreeClassifier()\n",
    "model_stats(model)"
   ]
  },
  {
   "cell_type": "markdown",
   "metadata": {},
   "source": [
    "## Random Forest \n"
   ]
  },
  {
   "cell_type": "code",
   "execution_count": 117,
   "metadata": {},
   "outputs": [
    {
     "name": "stdout",
     "output_type": "stream",
     "text": [
      "Training accuracy : 1.0\n",
      "Testing accuracy : 0.464\n",
      "\n",
      "Confusion Matrix: \n",
      "[[358 252]\n",
      " [619 396]]\n",
      "\n",
      "Cross Validation:  0.8220322651226984\n",
      "\n",
      "Classification Report: \n",
      "              precision    recall  f1-score   support\n",
      "\n",
      "           0       0.37      0.59      0.45       610\n",
      "           1       0.61      0.39      0.48      1015\n",
      "\n",
      "    accuracy                           0.46      1625\n",
      "   macro avg       0.49      0.49      0.46      1625\n",
      "weighted avg       0.52      0.46      0.47      1625\n",
      "\n"
     ]
    },
    {
     "data": {
      "text/plain": [
       "(1.0, 0.464, 0.8220322651226984)"
      ]
     },
     "execution_count": 117,
     "metadata": {},
     "output_type": "execute_result"
    }
   ],
   "source": [
    "from sklearn.ensemble import RandomForestClassifier\n",
    "\n",
    "#model\n",
    "model = RandomForestClassifier(n_estimators = 200)\n",
    "model_stats(model)"
   ]
  },
  {
   "cell_type": "markdown",
   "metadata": {},
   "source": [
    "## Niave Bayes "
   ]
  },
  {
   "cell_type": "code",
   "execution_count": 118,
   "metadata": {},
   "outputs": [
    {
     "name": "stdout",
     "output_type": "stream",
     "text": [
      "Training accuracy : 0.6759031198686372\n",
      "Testing accuracy : 0.38769230769230767\n",
      "\n",
      "Confusion Matrix: \n",
      "[[579  31]\n",
      " [964  51]]\n",
      "\n",
      "Cross Validation:  0.6723996027872219\n",
      "\n",
      "Classification Report: \n",
      "              precision    recall  f1-score   support\n",
      "\n",
      "           0       0.38      0.95      0.54       610\n",
      "           1       0.62      0.05      0.09      1015\n",
      "\n",
      "    accuracy                           0.39      1625\n",
      "   macro avg       0.50      0.50      0.32      1625\n",
      "weighted avg       0.53      0.39      0.26      1625\n",
      "\n"
     ]
    },
    {
     "data": {
      "text/plain": [
       "(0.6759031198686372, 0.38769230769230767, 0.6723996027872219)"
      ]
     },
     "execution_count": 118,
     "metadata": {},
     "output_type": "execute_result"
    }
   ],
   "source": [
    "from sklearn.naive_bayes import GaussianNB\n",
    "\n",
    "model = GaussianNB()\n",
    "model_stats(model)"
   ]
  },
  {
   "cell_type": "markdown",
   "metadata": {},
   "source": [
    "### KNN K nearest neighbors\n",
    "\n",
    "K-Nearest Neighbors operates by checking the distance from some test example to the known values of some training example. The group of data points/class that would give the smallest distance between the training points and the testing point is the class that is selected."
   ]
  },
  {
   "cell_type": "code",
   "execution_count": 119,
   "metadata": {},
   "outputs": [],
   "source": [
    "from sklearn.neighbors import KNeighborsClassifier"
   ]
  },
  {
   "cell_type": "code",
   "execution_count": 120,
   "metadata": {},
   "outputs": [],
   "source": [
    "# This function will run through a given number of neighbors and find\n",
    "# which number of neighbors gives the best accuracy\n",
    "def kNN_best(num):\n",
    "    scores = []\n",
    "    for i in range(2,num):\n",
    "        kNN = KNeighborsClassifier(n_neighbors = i)\n",
    "        kNN.fit(x_train, y_train)\n",
    "        cross_val = cross_val_score(estimator=kNN, X=x_train, y=y_train, cv=10)\n",
    "        scores.append(cross_val.mean())\n",
    "    \n",
    "    index = [i for i, e in enumerate(scores) if e == max(scores)]\n",
    "    best_n_neighbor = index[0] + 2\n",
    "    \n",
    "    kNN = KNeighborsClassifier(n_neighbors = best_n_neighbor)\n",
    "    \n",
    "    print('Best number of neighbors was ', best_n_neighbor)\n",
    "    print(\"\")\n",
    "    \n",
    "    model_stats(kNN)\n",
    "\n",
    "    "
   ]
  },
  {
   "cell_type": "code",
   "execution_count": 121,
   "metadata": {},
   "outputs": [
    {
     "name": "stdout",
     "output_type": "stream",
     "text": [
      "Best number of neighbors was  9\n",
      "\n",
      "Training accuracy : 0.8066502463054187\n",
      "Testing accuracy : 0.3667692307692308\n",
      "\n",
      "Confusion Matrix: \n",
      "[[546  64]\n",
      " [965  50]]\n",
      "\n",
      "Cross Validation:  0.76107020230922\n",
      "\n",
      "Classification Report: \n",
      "              precision    recall  f1-score   support\n",
      "\n",
      "           0       0.36      0.90      0.51       610\n",
      "           1       0.44      0.05      0.09      1015\n",
      "\n",
      "    accuracy                           0.37      1625\n",
      "   macro avg       0.40      0.47      0.30      1625\n",
      "weighted avg       0.41      0.37      0.25      1625\n",
      "\n"
     ]
    }
   ],
   "source": [
    "# In general more numbers of neighbors will give be too broad. Do not need to exceed 10. \n",
    "max_num_neighbors = 10 \n",
    "\n",
    "# This will return the best accuracy for the best number of neighbors. \n",
    "kNN_best(max_num_neighbors)"
   ]
  },
  {
   "cell_type": "markdown",
   "metadata": {},
   "source": [
    "### Finding Best Model \n",
    "\n"
   ]
  },
  {
   "cell_type": "code",
   "execution_count": 123,
   "metadata": {},
   "outputs": [
    {
     "name": "stdout",
     "output_type": "stream",
     "text": [
      "SGD: 0.588828 (0.113500)\n",
      "R Forest: 0.819568 (0.025596)\n",
      "D Tree: 0.759836 (0.024149)\n",
      "NB: 0.675475 (0.028253)\n",
      "KNN: 0.678562 (0.020831)\n",
      "LR: 0.731720 (0.026293)\n"
     ]
    },
    {
     "data": {
      "image/png": "[encoded data removed]",
      "text/plain": [
       "<Figure size 432x288 with 1 Axes>"
      ]
     },
     "metadata": {
      "needs_background": "light"
     },
     "output_type": "display_data"
    }
   ],
   "source": [
    "X_train, x_test, y_train, y_test = train_test_split(x, y, test_size = 0.25, random_state = 44)\n",
    "# prepare configuration for cross validation test harness\n",
    "seed = 7\n",
    "# prepare models\n",
    "models = []\n",
    "models.append(('SGD', SGDClassifier()))\n",
    "models.append(('R Forest', RandomForestClassifier()))\n",
    "models.append(('D Tree', DecisionTreeClassifier()))\n",
    "models.append(('NB', GaussianNB()))\n",
    "models.append(('KNN', KNeighborsClassifier()))\n",
    "models.append(('LR', LogisticRegression()))\n",
    "# evaluate each model in turn\n",
    "results = []\n",
    "names = []\n",
    "scoring = 'accuracy'\n",
    "for name, model in models:\n",
    "    kfold = model_selection.KFold(n_splits=10)\n",
    "    cv_results = model_selection.cross_val_score(model, X_train, y_train, cv=kfold, scoring=scoring)\n",
    "    results.append(cv_results)\n",
    "    names.append(name)\n",
    "    msg = \"%s: %f (%f)\" % (name, cv_results.mean(), cv_results.std())\n",
    "    print(msg)\n",
    "\n",
    "    # boxplot algorithm comparison\n",
    "fig = plt.figure()\n",
    "fig.suptitle('Algorithm Comparison')\n",
    "ax = fig.add_subplot(111)\n",
    "plt.boxplot(results)\n",
    "ax.set_xticklabels(names)\n",
    "plt.show()"
   ]
  },
  {
   "cell_type": "markdown",
   "metadata": {},
   "source": [
    "## Table of Results"
   ]
  },
  {
   "cell_type": "code",
   "execution_count": 136,
   "metadata": {},
   "outputs": [],
   "source": [
    "def table_Results():\n",
    "    SGD = SGDClassifier()\n",
    "    RF = RandomForestClassifier()\n",
    "    DT = DecisionTreeClassifier()\n",
    "    NB = GaussianNB()\n",
    "    KNN = KNeighborsClassifier()\n",
    "    LR = LogisticRegression()\n",
    "    \n",
    "    name_title = ['Model', 'Train Accuracy', 'Test Accuracy', 'Model Evaluation Mean']\n",
    "    train_accuracy_SGD, test_accuracy_SGD, model_eval_mean_SGD = table_data(SGD)\n",
    "    SGD_list = ['Stochiastic Gradient Descent', train_accuracy_SGD, test_accuracy_SGD, model_eval_mean_SGD]\n",
    "    train_accuracy_RF, test_accuracy_RF, model_eval_mean_RF = table_data(RF)\n",
    "    RF_list = ['Random Forrest', train_accuracy_RF, test_accuracy_RF, model_eval_mean_RF]\n",
    "    train_accuracy_DT, test_accuracy_DT, model_eval_mean_DT = table_data(DT)\n",
    "    DT_list = ['Decision Tree', train_accuracy_DT, test_accuracy_DT, model_eval_mean_DT]    \n",
    "    train_accuracy_NB, test_accuracy_NB, model_eval_mean_NB = table_data(NB)\n",
    "    NB_list = ['Niave Bayes', train_accuracy_NB, test_accuracy_NB, model_eval_mean_NB]\n",
    "    train_accuracy_KNN, test_accuracy_KNN, model_eval_mean_KNN = table_data(KNN)\n",
    "    KNN_list = ['K Nearest Neighbor', train_accuracy_KNN, test_accuracy_KNN, model_eval_mean_KNN]\n",
    "    train_accuracy_LR, test_accuracy_LR, model_eval_mean_LR = table_data(LR)\n",
    "    LR_list = ['Logistic Regression', train_accuracy_LR, test_accuracy_LR, model_eval_mean_LR]\n",
    "    \n",
    "    df = pd.DataFrame([SGD_list, RF_list, DT_list, NB_list, KNN_list, LR_list], columns = name_title)\n",
    "\n",
    "    return df"
   ]
  },
  {
   "cell_type": "code",
   "execution_count": 137,
   "metadata": {},
   "outputs": [
    {
     "data": {
      "text/html": [
       "<div>\n",
       "<style scoped>\n",
       "    .dataframe tbody tr th:only-of-type {\n",
       "        vertical-align: middle;\n",
       "    }\n",
       "\n",
       "    .dataframe tbody tr th {\n",
       "        vertical-align: top;\n",
       "    }\n",
       "\n",
       "    .dataframe thead th {\n",
       "        text-align: right;\n",
       "    }\n",
       "</style>\n",
       "<table border=\"1\" class=\"dataframe\">\n",
       "  <thead>\n",
       "    <tr style=\"text-align: right;\">\n",
       "      <th></th>\n",
       "      <th>Model</th>\n",
       "      <th>Train Accuracy</th>\n",
       "      <th>Test Accuracy</th>\n",
       "      <th>Model Evaluation Mean</th>\n",
       "    </tr>\n",
       "  </thead>\n",
       "  <tbody>\n",
       "    <tr>\n",
       "      <th>0</th>\n",
       "      <td>Stochiastic Gradient Descent</td>\n",
       "      <td>0.720443</td>\n",
       "      <td>0.414769</td>\n",
       "      <td>0.716945</td>\n",
       "    </tr>\n",
       "    <tr>\n",
       "      <th>1</th>\n",
       "      <td>Random Forrest</td>\n",
       "      <td>1.000000</td>\n",
       "      <td>0.497846</td>\n",
       "      <td>0.821415</td>\n",
       "    </tr>\n",
       "    <tr>\n",
       "      <th>2</th>\n",
       "      <td>Decision Tree</td>\n",
       "      <td>1.000000</td>\n",
       "      <td>0.376615</td>\n",
       "      <td>0.767024</td>\n",
       "    </tr>\n",
       "    <tr>\n",
       "      <th>3</th>\n",
       "      <td>Niave Bayes</td>\n",
       "      <td>0.675903</td>\n",
       "      <td>0.387692</td>\n",
       "      <td>0.672400</td>\n",
       "    </tr>\n",
       "    <tr>\n",
       "      <th>4</th>\n",
       "      <td>K Nearest Neighbor</td>\n",
       "      <td>0.838054</td>\n",
       "      <td>0.374769</td>\n",
       "      <td>0.757377</td>\n",
       "    </tr>\n",
       "    <tr>\n",
       "      <th>5</th>\n",
       "      <td>Logistic Regression</td>\n",
       "      <td>0.735427</td>\n",
       "      <td>0.408615</td>\n",
       "      <td>0.732954</td>\n",
       "    </tr>\n",
       "  </tbody>\n",
       "</table>\n",
       "</div>"
      ],
      "text/plain": [
       "                          Model  Train Accuracy  Test Accuracy  \\\n",
       "0  Stochiastic Gradient Descent        0.720443       0.414769   \n",
       "1                Random Forrest        1.000000       0.497846   \n",
       "2                 Decision Tree        1.000000       0.376615   \n",
       "3                   Niave Bayes        0.675903       0.387692   \n",
       "4            K Nearest Neighbor        0.838054       0.374769   \n",
       "5           Logistic Regression        0.735427       0.408615   \n",
       "\n",
       "   Model Evaluation Mean  \n",
       "0               0.716945  \n",
       "1               0.821415  \n",
       "2               0.767024  \n",
       "3               0.672400  \n",
       "4               0.757377  \n",
       "5               0.732954  "
      ]
     },
     "execution_count": 137,
     "metadata": {},
     "output_type": "execute_result"
    }
   ],
   "source": [
    "table_Results()"
   ]
  },
  {
   "cell_type": "code",
   "execution_count": null,
   "metadata": {},
   "outputs": [],
   "source": []
  }
 ],
 "metadata": {
  "kernelspec": {
   "display_name": "Python 3",
   "language": "python",
   "name": "python3"
  },
  "language_info": {
   "codemirror_mode": {
    "name": "ipython",
    "version": 3
   },
   "file_extension": ".py",
   "mimetype": "text/x-python",
   "name": "python",
   "nbconvert_exporter": "python",
   "pygments_lexer": "ipython3",
   "version": "3.7.6"
  }
 },
 "nbformat": 4,
 "nbformat_minor": 4
}
