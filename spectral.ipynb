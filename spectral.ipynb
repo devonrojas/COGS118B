{
 "cells": [
  {
   "cell_type": "markdown",
   "metadata": {},
   "source": [
    "# COGS 118B Final Project\n",
    "## Spectral Clustering Component\n",
    "#### Group Members: Devon Rojas, Tayler Shaw, Christina Yu, Richard Duong, Efrain Contreras, Kastilla White\n",
    "#### Github: https://github.com/devonrojas/COGS118B"
   ]
  },
  {
   "cell_type": "code",
   "execution_count": 18,
   "metadata": {},
   "outputs": [
    {
     "data": {
      "image/png": "[encoded data removed]",
      "text/plain": [
       "<Figure size 1800x360 with 4 Axes>"
      ]
     },
     "metadata": {},
     "output_type": "display_data"
    }
   ],
   "source": [
    "import numpy as np\n",
    "import scipy.io as sio\n",
    "from scipy.spatial.distance import euclidean, pdist, squareform\n",
    "from scipy.sparse import csgraph\n",
    "import matplotlib\n",
    "import matplotlib.pyplot as plt\n",
    "from numpy.matlib import repmat\n",
    "import pandas\n",
    "import seaborn as sns\n",
    "from sklearn.cluster import KMeans\n",
    "\n",
    "%matplotlib inline\n",
    "sns.set_context('poster')\n",
    "sns.set_style('white')\n",
    "sns.set_color_codes()\n",
    "plot_kwds = {'alpha' : 0.5, 's' : 80, 'linewidths':0}\n",
    "\n",
    "fig_nonPCA, axes_nonPCA = plt.subplots(1,4)\n",
    "fig_nonPCA.set_figheight(5)\n",
    "fig_nonPCA.set_figwidth(25)"
   ]
  },
  {
   "cell_type": "code",
   "execution_count": null,
   "metadata": {},
   "outputs": [],
   "source": [
    "# [Vsort,Dsort] = eigsort(V, eigvals)\n",
    "#\n",
    "# Sorts a matrix eigenvectors and a array of eigenvalues in order\n",
    "# of eigenvalue size, largest eigenvalue first and smallest eigenvalue\n",
    "# last.\n",
    "#\n",
    "# Example usage:\n",
    "# di, V = np.linarg.eig(L)\n",
    "# Vnew, Dnew = eigsort(V, di)\n",
    "#\n",
    "# Tim Marks 2002"
   ]
  },
  {
   "cell_type": "code",
   "execution_count": 19,
   "metadata": {},
   "outputs": [],
   "source": [
    "def eigsort(V, eigvals):\n",
    "\n",
    "    # Sort the eigenvalues from largest to smallest. Store the sorted\n",
    "    # eigenvalues in the column vector lambd.\n",
    "    lohival = np.sort(eigvals)\n",
    "    lohiindex = np.argsort(eigvals)\n",
    "    lambd = np.flip(lohival)\n",
    "    index = np.flip(lohiindex)\n",
    "    Dsort = np.diag(lambd)\n",
    "\n",
    "    # Sort eigenvectors to correspond to the ordered eigenvalues. Store sorted\n",
    "    # eigenvectors as columns of the matrix vsort.\n",
    "    M = np.size(lambd)\n",
    "    Vsort = np.zeros((M, M))\n",
    "    for i in range(M):\n",
    "        Vsort[:, i] = V[:, index[i]]\n",
    "    return Vsort, Dsort"
   ]
  },
  {
   "cell_type": "markdown",
   "metadata": {},
   "source": [
    "## Spectral Clustering w/o PCA"
   ]
  },
  {
   "cell_type": "code",
   "execution_count": 20,
   "metadata": {},
   "outputs": [
    {
     "data": {
      "text/html": [
       "<div>\n",
       "<style scoped>\n",
       "    .dataframe tbody tr th:only-of-type {\n",
       "        vertical-align: middle;\n",
       "    }\n",
       "\n",
       "    .dataframe tbody tr th {\n",
       "        vertical-align: top;\n",
       "    }\n",
       "\n",
       "    .dataframe thead th {\n",
       "        text-align: right;\n",
       "    }\n",
       "</style>\n",
       "<table border=\"1\" class=\"dataframe\">\n",
       "  <thead>\n",
       "    <tr style=\"text-align: right;\">\n",
       "      <th></th>\n",
       "      <th>fixed acidity</th>\n",
       "      <th>volatile acidity</th>\n",
       "      <th>citric acid</th>\n",
       "      <th>residual sugar</th>\n",
       "      <th>chlorides</th>\n",
       "      <th>free sulfur dioxide</th>\n",
       "      <th>total sulfur dioxide</th>\n",
       "      <th>density</th>\n",
       "      <th>pH</th>\n",
       "      <th>sulphates</th>\n",
       "      <th>alcohol</th>\n",
       "      <th>quality</th>\n",
       "    </tr>\n",
       "  </thead>\n",
       "  <tbody>\n",
       "    <tr>\n",
       "      <th>0</th>\n",
       "      <td>7.4</td>\n",
       "      <td>0.70</td>\n",
       "      <td>0.00</td>\n",
       "      <td>1.9</td>\n",
       "      <td>0.076</td>\n",
       "      <td>11.0</td>\n",
       "      <td>34.0</td>\n",
       "      <td>0.9978</td>\n",
       "      <td>3.51</td>\n",
       "      <td>0.56</td>\n",
       "      <td>9.4</td>\n",
       "      <td>5</td>\n",
       "    </tr>\n",
       "    <tr>\n",
       "      <th>1</th>\n",
       "      <td>7.8</td>\n",
       "      <td>0.88</td>\n",
       "      <td>0.00</td>\n",
       "      <td>2.6</td>\n",
       "      <td>0.098</td>\n",
       "      <td>25.0</td>\n",
       "      <td>67.0</td>\n",
       "      <td>0.9968</td>\n",
       "      <td>3.20</td>\n",
       "      <td>0.68</td>\n",
       "      <td>9.8</td>\n",
       "      <td>5</td>\n",
       "    </tr>\n",
       "    <tr>\n",
       "      <th>2</th>\n",
       "      <td>7.8</td>\n",
       "      <td>0.76</td>\n",
       "      <td>0.04</td>\n",
       "      <td>2.3</td>\n",
       "      <td>0.092</td>\n",
       "      <td>15.0</td>\n",
       "      <td>54.0</td>\n",
       "      <td>0.9970</td>\n",
       "      <td>3.26</td>\n",
       "      <td>0.65</td>\n",
       "      <td>9.8</td>\n",
       "      <td>5</td>\n",
       "    </tr>\n",
       "    <tr>\n",
       "      <th>3</th>\n",
       "      <td>11.2</td>\n",
       "      <td>0.28</td>\n",
       "      <td>0.56</td>\n",
       "      <td>1.9</td>\n",
       "      <td>0.075</td>\n",
       "      <td>17.0</td>\n",
       "      <td>60.0</td>\n",
       "      <td>0.9980</td>\n",
       "      <td>3.16</td>\n",
       "      <td>0.58</td>\n",
       "      <td>9.8</td>\n",
       "      <td>6</td>\n",
       "    </tr>\n",
       "    <tr>\n",
       "      <th>4</th>\n",
       "      <td>7.4</td>\n",
       "      <td>0.70</td>\n",
       "      <td>0.00</td>\n",
       "      <td>1.9</td>\n",
       "      <td>0.076</td>\n",
       "      <td>11.0</td>\n",
       "      <td>34.0</td>\n",
       "      <td>0.9978</td>\n",
       "      <td>3.51</td>\n",
       "      <td>0.56</td>\n",
       "      <td>9.4</td>\n",
       "      <td>5</td>\n",
       "    </tr>\n",
       "  </tbody>\n",
       "</table>\n",
       "</div>"
      ],
      "text/plain": [
       "   fixed acidity  volatile acidity  citric acid  residual sugar  chlorides  \\\n",
       "0            7.4              0.70         0.00             1.9      0.076   \n",
       "1            7.8              0.88         0.00             2.6      0.098   \n",
       "2            7.8              0.76         0.04             2.3      0.092   \n",
       "3           11.2              0.28         0.56             1.9      0.075   \n",
       "4            7.4              0.70         0.00             1.9      0.076   \n",
       "\n",
       "   free sulfur dioxide  total sulfur dioxide  density    pH  sulphates  \\\n",
       "0                 11.0                  34.0   0.9978  3.51       0.56   \n",
       "1                 25.0                  67.0   0.9968  3.20       0.68   \n",
       "2                 15.0                  54.0   0.9970  3.26       0.65   \n",
       "3                 17.0                  60.0   0.9980  3.16       0.58   \n",
       "4                 11.0                  34.0   0.9978  3.51       0.56   \n",
       "\n",
       "   alcohol  quality  \n",
       "0      9.4        5  \n",
       "1      9.8        5  \n",
       "2      9.8        5  \n",
       "3      9.8        6  \n",
       "4      9.4        5  "
      ]
     },
     "execution_count": 20,
     "metadata": {},
     "output_type": "execute_result"
    }
   ],
   "source": [
    "filenames = ['winequality-red.csv', 'winequality-white.csv']\n",
    "names = [\"fixed acidity\",\n",
    "         \"volatile acidity\",\n",
    "         \"citric acid\",\n",
    "         \"residual sugar\",\n",
    "         \"chlorides\",\n",
    "         \"free sulfur dioxide\",\n",
    "         \"total sulfur dioxide\",\n",
    "         \"density\",\n",
    "         \"pH\",\n",
    "         \"sulphates\",\n",
    "         \"alcohol\",\n",
    "         \"quality\"]\n",
    "\n",
    "d = []\n",
    "for filename in filenames:\n",
    "    df = pandas.read_csv(filename, names=names, sep=\";\")\n",
    "    d.append(df)\n",
    "\n",
    "data = pandas.concat(d, ignore_index=True)\n",
    "data.head()"
   ]
  },
  {
   "cell_type": "code",
   "execution_count": 21,
   "metadata": {},
   "outputs": [],
   "source": [
    "# pdist(data, similarity_func)\n",
    "#\n",
    "# Computes the affinity value between two vectors using the euclidean\n",
    "# norm squared divided by the variance of the data\n",
    "\n",
    "# Example usage:\n",
    "# dists = pdist(data, similarity_func)\n",
    "def similarity_func(u, v):\n",
    "    sigsq = 1600\n",
    "    x = u - v\n",
    "    d = - (x.dot(x.T)) / (2*sigsq)\n",
    "    return np.exp(d)"
   ]
  },
  {
   "cell_type": "code",
   "execution_count": 22,
   "metadata": {},
   "outputs": [],
   "source": [
    "## Step 1/2: Compute affinity/similarity matrix, set diagonal entries to 0\n",
    "## Set std to 40 bc 0.9 was wayyyy too small\n",
    "dists = pdist(data, similarity_func)\n",
    "W = pandas.DataFrame(squareform(dists), columns=list(range(0,data.shape[0])))"
   ]
  },
  {
   "cell_type": "code",
   "execution_count": 23,
   "metadata": {},
   "outputs": [
    {
     "data": {
      "text/plain": [
       "<matplotlib.colorbar.Colorbar at 0x19c38dd90>"
      ]
     },
     "execution_count": 23,
     "metadata": {},
     "output_type": "execute_result"
    }
   ],
   "source": [
    "ax = axes_nonPCA[0]\n",
    "ax.set_title(\"Affinity Matrix\")\n",
    "im = ax.imshow(W, extent=[0,data.shape[0],0,data.shape[0]])\n",
    "fig_nonPCA.colorbar(im, ax=ax)"
   ]
  },
  {
   "cell_type": "code",
   "execution_count": 24,
   "metadata": {},
   "outputs": [
    {
     "data": {
      "text/plain": [
       "<matplotlib.colorbar.Colorbar at 0x19adb31f0>"
      ]
     },
     "execution_count": 24,
     "metadata": {},
     "output_type": "execute_result"
    }
   ],
   "source": [
    "## Step 3: Computer normalized graph Laplacian\n",
    "D = np.diag(np.sum(W.T, axis=0))\n",
    "L = np.linalg.inv(np.sqrt(D)).dot(W).dot(np.linalg.inv(np.sqrt(D)))\n",
    "vmax = np.amax(np.ndarray.max(L, axis=0))\n",
    "vmin = np.amin(np.ndarray.min(L, axis=0))\n",
    "\n",
    "ax = axes_nonPCA[1]\n",
    "ax.set_title(\"Normalized Graph Laplacian\")\n",
    "im = ax.imshow(L, extent=[0, data.shape[0], 0, data.shape[0]])\n",
    "im.set_clim(vmin, vmax/250) # Dividing vmax by a large enough constant to get good color on the graph\n",
    "fig_nonPCA.colorbar(im, ax=ax)"
   ]
  },
  {
   "cell_type": "code",
   "execution_count": 25,
   "metadata": {},
   "outputs": [
    {
     "data": {
      "text/plain": [
       "<matplotlib.colorbar.Colorbar at 0x19ae7bf70>"
      ]
     },
     "execution_count": 25,
     "metadata": {},
     "output_type": "execute_result"
    }
   ],
   "source": [
    "## Step 4: Compute top k eigenvectors\n",
    "num_eigvec = 2\n",
    "di, X = np.linalg.eig(L)\n",
    "Xsort, Dsort = eigsort(X,di)\n",
    "Xuse = Xsort[:, :num_eigvec]\n",
    "\n",
    "ax = axes_nonPCA[2]\n",
    "ax.set_title(\"Top k Eigenvectors\")\n",
    "im = ax.imshow(Xuse, extent=[0, 1, 0, 1])\n",
    "fig_nonPCA.colorbar(im, ax=ax)"
   ]
  },
  {
   "cell_type": "code",
   "execution_count": 26,
   "metadata": {},
   "outputs": [
    {
     "data": {
      "text/plain": [
       "<matplotlib.colorbar.Colorbar at 0x19af7b490>"
      ]
     },
     "execution_count": 26,
     "metadata": {},
     "output_type": "execute_result"
    }
   ],
   "source": [
    "## Step 5: Compute Y by normalizing X\n",
    "Xsq = np.multiply(Xuse, Xuse)\n",
    "divmat = repmat(np.sqrt(np.sum(Xsq.T, axis=0)).reshape(-1,1), 1, 2)\n",
    "Y = np.divide(Xuse, divmat)\n",
    "\n",
    "ax = axes_nonPCA[3]\n",
    "ax.set_title(\"Normalized Eigenvectors\")\n",
    "im = ax.imshow(Y, extent=[0, 1, 0, 1])\n",
    "fig_nonPCA.colorbar(im, ax=ax)"
   ]
  },
  {
   "cell_type": "code",
   "execution_count": 16,
   "metadata": {},
   "outputs": [],
   "source": [
    "fig_nonPCA.tight_layout()\n",
    "fig_nonPCA.savefig(\"Non_PCA_Spectral_Clustering.png\")"
   ]
  },
  {
   "cell_type": "code",
   "execution_count": 29,
   "metadata": {},
   "outputs": [
    {
     "name": "stdout",
     "output_type": "stream",
     "text": [
      "K-means results of full-dimension data:\n",
      "Cluster 1 => size=4003, center=[0.80483593 0.49654519]\n",
      "Cluster 2 => size=2494, center=[ 0.64992075 -0.67582807]\n"
     ]
    }
   ],
   "source": [
    "# Step 6: Run k-means on eigenvectors \n",
    "cluster_size = num_eigvec\n",
    "kmeans_nonPCA = KMeans(n_clusters=cluster_size).fit(Y)\n",
    "kk_nonPCA = kmeans_nonPCA.labels_\n",
    "\n",
    "## Because our data has dimension higher than 2, we cannot visualize the vector clusters\n",
    "print(\"K-means results of full-dimension data:\")\n",
    "\n",
    "clusters = []\n",
    "for c_num in range(0, cluster_size):\n",
    "    c = data.iloc[np.argwhere(kk_nonPCA == c_num).flatten()]\n",
    "    clusters.append(c)\n",
    "    print(\"Cluster {0} => size={1}, center={2}\".format(c_num+1, c.shape[0], kmeans_nonPCA.cluster_centers_[c_num]))"
   ]
  },
  {
   "cell_type": "markdown",
   "metadata": {},
   "source": [
    "## Spectral Clustering w/ PCA"
   ]
  },
  {
   "cell_type": "code",
   "execution_count": 39,
   "metadata": {},
   "outputs": [
    {
     "data": {
      "image/png": "[encoded data removed]",
      "text/plain": [
       "<Figure size 1800x360 with 4 Axes>"
      ]
     },
     "metadata": {},
     "output_type": "display_data"
    }
   ],
   "source": [
    "## Insert reg spectral clustering algorithm here and then compare cluster\n",
    "## indices with cluster indicies from above to see the similarities\n",
    "filename = \"2_PCA.csv\"\n",
    "data2 = pandas.read_csv(filename)\n",
    "goto = np.shape(data2)[0]\n",
    "\n",
    "fig_PCA, axes_PCA = plt.subplots(1,4)\n",
    "fig_PCA.set_figheight(5)\n",
    "fig_PCA.set_figwidth(25)"
   ]
  },
  {
   "cell_type": "code",
   "execution_count": 40,
   "metadata": {},
   "outputs": [
    {
     "data": {
      "text/plain": [
       "<matplotlib.colorbar.Colorbar at 0x13540af70>"
      ]
     },
     "execution_count": 40,
     "metadata": {},
     "output_type": "execute_result"
    }
   ],
   "source": [
    "# compute A (step 1)\n",
    "# experiment with sigsq in question 8\n",
    "sigsq = .9\n",
    "Aisq = np.power(data2.iloc[:,0], 2) + np.power(data2.iloc[:,1], 2)\n",
    "# type(Aisq)\n",
    "Dotprod = data2.dot(data2.T)\n",
    "\n",
    "distmat = - repmat(Aisq, goto, 1) - repmat(Aisq.values.reshape(-1,1), 1, goto)  + 2*Dotprod\n",
    "Afast = np.exp(distmat / (2*sigsq))\n",
    "A = Afast - np.diag(np.diag(Afast))\n",
    "\n",
    "ax = axes_PCA[0]\n",
    "ax.set_title(\"Affinity Matrix\")\n",
    "im = ax.imshow(A, extent=[0, 1, 0, 1])\n",
    "fig_PCA.colorbar(im, ax=ax)"
   ]
  },
  {
   "cell_type": "code",
   "execution_count": 41,
   "metadata": {},
   "outputs": [
    {
     "data": {
      "text/plain": [
       "<matplotlib.colorbar.Colorbar at 0x13609e400>"
      ]
     },
     "execution_count": 41,
     "metadata": {},
     "output_type": "execute_result"
    }
   ],
   "source": [
    "# step 2\n",
    "D = np.diag(np.sum(A.T, axis=0))\n",
    "L = np.linalg.inv(np.sqrt(D)).dot(A).dot(np.linalg.inv(np.sqrt(D)))\n",
    "vmax = np.amax(np.ndarray.max(L, axis=0))\n",
    "vmin = np.amin(np.ndarray.min(L, axis=0))\n",
    "\n",
    "ax = axes_PCA[1]\n",
    "ax.set_title(\"Normalized Graph Laplacian\")\n",
    "im = ax.imshow(L, extent=[0, 1, 0, 1])\n",
    "im.set_clim(vmin, vmax/100) # Dividing vmax by a large enough constant to get good color on the graph\n",
    "fig_PCA.colorbar(im, ax=ax)"
   ]
  },
  {
   "cell_type": "code",
   "execution_count": 42,
   "metadata": {},
   "outputs": [
    {
     "data": {
      "text/plain": [
       "<matplotlib.colorbar.Colorbar at 0x136091dc0>"
      ]
     },
     "execution_count": 42,
     "metadata": {},
     "output_type": "execute_result"
    }
   ],
   "source": [
    "# step 3 \n",
    "di, X = np.linalg.eig(L)\n",
    "Xsort, Dsort = eigsort(X,di)\n",
    "Xuse = Xsort[:, :2]\n",
    "\n",
    "ax = axes_PCA[2]\n",
    "ax.set_title(\"Top k Eigenvectors\")\n",
    "im = ax.imshow(Xuse, extent=[0, 1, 0, 1])\n",
    "fig_PCA.colorbar(im, ax=ax)"
   ]
  },
  {
   "cell_type": "code",
   "execution_count": 43,
   "metadata": {},
   "outputs": [
    {
     "data": {
      "text/plain": [
       "<matplotlib.colorbar.Colorbar at 0x135448880>"
      ]
     },
     "execution_count": 43,
     "metadata": {},
     "output_type": "execute_result"
    }
   ],
   "source": [
    "# normalize X to get Y (step 4)\n",
    "Xsq = np.multiply(Xuse, Xuse)\n",
    "divmat = repmat(np.sqrt(np.sum(Xsq.T, axis=0)).reshape(-1,1), 1, 2)\n",
    "Y = np.divide(Xuse, divmat)\n",
    "\n",
    "ax = axes_PCA[3]\n",
    "ax.set_title(\"Normalized Eigenvectors\")\n",
    "im = ax.imshow(Y, extent=[0, 1, 0, 1])\n",
    "fig_PCA.colorbar(im, ax=ax)"
   ]
  },
  {
   "cell_type": "code",
   "execution_count": 8,
   "metadata": {},
   "outputs": [],
   "source": [
    "fig_PCA.tight_layout()\n",
    "fig_PCA.savefig(\"PCA_Spectral_Clustering.png\")"
   ]
  },
  {
   "cell_type": "code",
   "execution_count": 44,
   "metadata": {},
   "outputs": [
    {
     "data": {
      "image/png": "[encoded data removed]",
      "text/plain": [
       "<Figure size 432x288 with 1 Axes>"
      ]
     },
     "metadata": {},
     "output_type": "display_data"
    }
   ],
   "source": [
    "# step 5/6\n",
    "kmeans = KMeans(n_clusters=2).fit(Y)\n",
    "kk_PCA = kmeans.labels_\n",
    "c1 = np.argwhere(kk_PCA == 0).flatten()\n",
    "c2 = np.argwhere(kk_PCA == 1).flatten()\n",
    "\n",
    "plt.scatter(data2.iloc[c1].iloc[:,0], data2.iloc[c1].iloc[:,1], edgecolor='c', marker='o', facecolor='none', s=100)\n",
    "plt.scatter(data2.iloc[c2].iloc[:,0], data2.iloc[c2].iloc[:,1], edgecolor='m', marker='o', facecolor='none', s=100)\n",
    "plt.title('PCA Spectral Clustering')\n",
    "plt.savefig(\"Kmeans_withPCA.png\")"
   ]
  },
  {
   "cell_type": "code",
   "execution_count": 34,
   "metadata": {},
   "outputs": [
    {
     "data": {
      "text/plain": [
       "array([1, 1, 1, ..., 0, 0, 1], dtype=int32)"
      ]
     },
     "execution_count": 34,
     "metadata": {},
     "output_type": "execute_result"
    }
   ],
   "source": [
    "kk_nonPCA"
   ]
  },
  {
   "cell_type": "code",
   "execution_count": 45,
   "metadata": {},
   "outputs": [
    {
     "data": {
      "text/plain": [
       "array([1, 1, 1, ..., 0, 0, 1], dtype=int32)"
      ]
     },
     "execution_count": 45,
     "metadata": {},
     "output_type": "execute_result"
    }
   ],
   "source": [
    "kk"
   ]
  },
  {
   "cell_type": "code",
   "execution_count": 49,
   "metadata": {},
   "outputs": [],
   "source": [
    "vec_compare = pandas.DataFrame(data={'woPCA': kk_nonPCA, 'wPCA': kk})\n",
    "vec_compare.to_csv(\"vec_compare.csv\")"
   ]
  },
  {
   "cell_type": "code",
   "execution_count": null,
   "metadata": {},
   "outputs": [],
   "source": []
  }
 ],
 "metadata": {
  "kernelspec": {
   "display_name": "Python 3",
   "language": "python",
   "name": "python3"
  },
  "language_info": {
   "codemirror_mode": {
    "name": "ipython",
    "version": 3
   },
   "file_extension": ".py",
   "mimetype": "text/x-python",
   "name": "python",
   "nbconvert_exporter": "python",
   "pygments_lexer": "ipython3",
   "version": "3.8.2"
  },
  "metadata": {
   "interpreter": {
    "hash": "31f2aee4e71d21fbe5cf8b01ff0e069b9275f58929596ceb00d14d90e3e16cd6"
   }
  }
 },
 "nbformat": 4,
 "nbformat_minor": 2
}
